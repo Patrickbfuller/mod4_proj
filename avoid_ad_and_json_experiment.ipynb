{
 "cells": [
  {
   "cell_type": "code",
   "execution_count": 1,
   "metadata": {},
   "outputs": [],
   "source": [
    "import pandas as pd\n",
    "from selenium.webdriver import Chrome\n",
    "from selenium.webdriver.common.action_chains import ActionChains"
   ]
  },
  {
   "cell_type": "code",
   "execution_count": 2,
   "metadata": {},
   "outputs": [],
   "source": [
    "browser = Chrome()\n",
    "url = 'https://web.archive.org/web/20190205180715/https://old.reddit.com/r/worldnews/'\n",
    "browser.get(url)"
   ]
  },
  {
   "cell_type": "code",
   "execution_count": 3,
   "metadata": {},
   "outputs": [],
   "source": [
    "table = browser.find_element_by_css_selector('div#siteTable')"
   ]
  },
  {
   "cell_type": "code",
   "execution_count": 4,
   "metadata": {},
   "outputs": [],
   "source": [
    "elements = browser.find_elements_by_xpath('//*[contains(@id, \"thing\")]')"
   ]
  },
  {
   "cell_type": "code",
   "execution_count": 5,
   "metadata": {},
   "outputs": [
    {
     "data": {
      "text/plain": [
       "[<selenium.webdriver.remote.webelement.WebElement (session=\"fa5fa8c5c0fe618485d40d6a3d8614d0\", element=\"0.09480177699817038-2\")>,\n",
       " <selenium.webdriver.remote.webelement.WebElement (session=\"fa5fa8c5c0fe618485d40d6a3d8614d0\", element=\"0.09480177699817038-3\")>,\n",
       " <selenium.webdriver.remote.webelement.WebElement (session=\"fa5fa8c5c0fe618485d40d6a3d8614d0\", element=\"0.09480177699817038-4\")>,\n",
       " <selenium.webdriver.remote.webelement.WebElement (session=\"fa5fa8c5c0fe618485d40d6a3d8614d0\", element=\"0.09480177699817038-5\")>,\n",
       " <selenium.webdriver.remote.webelement.WebElement (session=\"fa5fa8c5c0fe618485d40d6a3d8614d0\", element=\"0.09480177699817038-6\")>,\n",
       " <selenium.webdriver.remote.webelement.WebElement (session=\"fa5fa8c5c0fe618485d40d6a3d8614d0\", element=\"0.09480177699817038-7\")>,\n",
       " <selenium.webdriver.remote.webelement.WebElement (session=\"fa5fa8c5c0fe618485d40d6a3d8614d0\", element=\"0.09480177699817038-8\")>,\n",
       " <selenium.webdriver.remote.webelement.WebElement (session=\"fa5fa8c5c0fe618485d40d6a3d8614d0\", element=\"0.09480177699817038-9\")>,\n",
       " <selenium.webdriver.remote.webelement.WebElement (session=\"fa5fa8c5c0fe618485d40d6a3d8614d0\", element=\"0.09480177699817038-10\")>,\n",
       " <selenium.webdriver.remote.webelement.WebElement (session=\"fa5fa8c5c0fe618485d40d6a3d8614d0\", element=\"0.09480177699817038-11\")>,\n",
       " <selenium.webdriver.remote.webelement.WebElement (session=\"fa5fa8c5c0fe618485d40d6a3d8614d0\", element=\"0.09480177699817038-12\")>,\n",
       " <selenium.webdriver.remote.webelement.WebElement (session=\"fa5fa8c5c0fe618485d40d6a3d8614d0\", element=\"0.09480177699817038-13\")>,\n",
       " <selenium.webdriver.remote.webelement.WebElement (session=\"fa5fa8c5c0fe618485d40d6a3d8614d0\", element=\"0.09480177699817038-14\")>,\n",
       " <selenium.webdriver.remote.webelement.WebElement (session=\"fa5fa8c5c0fe618485d40d6a3d8614d0\", element=\"0.09480177699817038-15\")>,\n",
       " <selenium.webdriver.remote.webelement.WebElement (session=\"fa5fa8c5c0fe618485d40d6a3d8614d0\", element=\"0.09480177699817038-16\")>,\n",
       " <selenium.webdriver.remote.webelement.WebElement (session=\"fa5fa8c5c0fe618485d40d6a3d8614d0\", element=\"0.09480177699817038-17\")>,\n",
       " <selenium.webdriver.remote.webelement.WebElement (session=\"fa5fa8c5c0fe618485d40d6a3d8614d0\", element=\"0.09480177699817038-18\")>,\n",
       " <selenium.webdriver.remote.webelement.WebElement (session=\"fa5fa8c5c0fe618485d40d6a3d8614d0\", element=\"0.09480177699817038-19\")>,\n",
       " <selenium.webdriver.remote.webelement.WebElement (session=\"fa5fa8c5c0fe618485d40d6a3d8614d0\", element=\"0.09480177699817038-20\")>,\n",
       " <selenium.webdriver.remote.webelement.WebElement (session=\"fa5fa8c5c0fe618485d40d6a3d8614d0\", element=\"0.09480177699817038-21\")>,\n",
       " <selenium.webdriver.remote.webelement.WebElement (session=\"fa5fa8c5c0fe618485d40d6a3d8614d0\", element=\"0.09480177699817038-22\")>,\n",
       " <selenium.webdriver.remote.webelement.WebElement (session=\"fa5fa8c5c0fe618485d40d6a3d8614d0\", element=\"0.09480177699817038-23\")>,\n",
       " <selenium.webdriver.remote.webelement.WebElement (session=\"fa5fa8c5c0fe618485d40d6a3d8614d0\", element=\"0.09480177699817038-24\")>,\n",
       " <selenium.webdriver.remote.webelement.WebElement (session=\"fa5fa8c5c0fe618485d40d6a3d8614d0\", element=\"0.09480177699817038-25\")>,\n",
       " <selenium.webdriver.remote.webelement.WebElement (session=\"fa5fa8c5c0fe618485d40d6a3d8614d0\", element=\"0.09480177699817038-26\")>,\n",
       " <selenium.webdriver.remote.webelement.WebElement (session=\"fa5fa8c5c0fe618485d40d6a3d8614d0\", element=\"0.09480177699817038-27\")>,\n",
       " <selenium.webdriver.remote.webelement.WebElement (session=\"fa5fa8c5c0fe618485d40d6a3d8614d0\", element=\"0.09480177699817038-28\")>]"
      ]
     },
     "execution_count": 5,
     "metadata": {},
     "output_type": "execute_result"
    }
   ],
   "source": [
    "elements"
   ]
  },
  {
   "cell_type": "markdown",
   "metadata": {},
   "source": [
    "https://sqa.stackexchange.com/questions/18354/how-to-identify-element-with-knowledge-of-partial-text-for-any-tag-eg-div-span/18356\n",
    "\n",
    "HALLELUJAH!\n",
    "\n",
    "Big thanks to \n",
    "edited Jul 13 '17 at 4:08\n",
    "\n",
    "alecxe♦\n",
    "7,81473591\n",
    "answered Apr 28 '16 at 9:01\n",
    "\n",
    "Sagar007\n",
    "1,0751721"
   ]
  },
  {
   "cell_type": "code",
   "execution_count": 6,
   "metadata": {},
   "outputs": [
    {
     "name": "stdout",
     "output_type": "stream",
     "text": [
      "start\n",
      "•\n",
      "We're Roman, and we're changing the way guys treat Erectile Dysfunction. We connect you with real doctors, and can ship FDA approved medication right to your door. (getroman.com)\n",
      "promoted by getroman\n",
      "promotedsavereport\n",
      "fin\n",
      "\n",
      "start\n",
      "233\n",
      "AMA Finished[AMA] I'm Emma Best, one of the co-founders of Distributed Denial of Secrets (@DDoSecrets) – Ask Me Anything! (self.worldnews)\n",
      "submitted 1 day ago * by NatSecGeekEmma Best - announcement\n",
      "196 commentssharesavehidereport\n",
      "fin\n",
      "\n",
      "start\n",
      "1\n",
      "9601\n",
      "Female genital mutilation (FGM) is increasingly being performed on babies and infants in the UK - In one report, in Yorkshire, a victim was just one month old. (bbc.com)\n",
      "submitted 7 hours ago by mvea\n",
      "2938 commentssharesavehidereport\n",
      "fin\n",
      "\n",
      "start\n",
      "2\n",
      "14.3k\n",
      "Trump Says He Wants US Troops in Iraq to \"Watch Iran.\" Iraqis' Response: Get Out. \"Trump did not ask us to keep U.S. troops to watch Iran,\" says Iraqi president. (commondreams.org)\n",
      "submitted 8 hours ago by madazzahatter\n",
      "1166 commentssharesavehidereport\n",
      "fin\n",
      "\n",
      "start\n",
      "3\n",
      "1259\n",
      "Secret Files Show How Trump Moscow Talks Unfolded While Trump Heaped Praise On Putin (buzzfeed.com)\n",
      "submitted 3 hours ago by wwwdotvotedotgov\n",
      "168 commentssharesavehidereport\n",
      "fin\n",
      "\n",
      "start\n",
      "4\n",
      "4730\n",
      "Father of American missionary who was killed while trying to convert isolated Indian Ocean tribe blames evangelicals' 'extreme Christianity' for the death of his 'innocent child (dailymail.co.uk)\n",
      "submitted 14 hours ago by TekOg\n",
      "796 commentssharesavehidereport\n",
      "fin\n",
      "\n",
      "start\n",
      "5\n",
      "784\n",
      "A Belgian environment minister is facing a storm of protest after falsely claiming the country’s intelligence services held evidence that children skipping school to demonstrate over climate change are being directed by unnamed powers. (theguardian.com)\n",
      "submitted 6 hours ago by ManiaforBeatles\n",
      "120 commentssharesavehidereport\n",
      "fin\n",
      "\n",
      "start\n",
      "6\n",
      "569\n",
      "Saudi Female Activists Subject to Torture, Kept in Inhumane Conditions - British MPs Report (albawaba.com)\n",
      "submitted 6 hours ago by ahm713\n",
      "45 commentssharesavehidereport\n",
      "fin\n",
      "\n",
      "start\n",
      "7\n",
      "417\n",
      "Poachers driving African parrots extinct in spiralling ‘exotic’ pet trade, investigators say (independent.co.uk)\n",
      "submitted 5 hours ago by QuietCakeBionics\n",
      "26 commentssharesavehidereport\n",
      "fin\n",
      "\n",
      "start\n",
      "8\n",
      "710\n",
      "Arrests made after Al Jazeera investigation into French far right (aljazeera.com)\n",
      "submitted 8 hours ago by CatsEyesInTheDark\n",
      "78 commentssharesavehidereport\n",
      "fin\n",
      "\n",
      "start\n",
      "9\n",
      "238\n",
      "Secret Files Show How Trump Moscow Talks Unfolded While Trump Heaped Praise On Putin (buzzfeednews.com)\n",
      "submitted 3 hours ago by tank_trap\n",
      "117 commentssharesavehidereport\n",
      "fin\n",
      "\n",
      "start\n",
      "10\n",
      "3325\n",
      "Gut Bacteria Linked to Depression Identified (neurosciencenews.com)\n",
      "submitted 18 hours ago by StcStasi\n",
      "603 commentssharesavehidereport\n",
      "fin\n",
      "\n",
      "start\n",
      "11\n",
      "220\n",
      "Rights group says global democracy ‘in retreat’ for 13th year (politico.eu)\n",
      "submitted 3 hours ago by ThucydidesOfAthens\n",
      "40 commentssharesavehidereport\n",
      "fin\n",
      "\n",
      "start\n",
      "12\n",
      "2179\n",
      "A defiant Mark Zuckerberg says people are focusing on the 'negative' aspects of Facebook's impact on the world (businessinsider.com)\n",
      "submitted 17 hours ago by Devz0r\n",
      "511 commentssharesavehidereport\n",
      "fin\n",
      "\n",
      "start\n",
      "13\n",
      "268\n",
      "Khashoggi's fiancee publishes book in memory of slain journalist (aljazeera.com)\n",
      "submitted 8 hours ago by ahm713\n",
      "27 commentssharesavehidereport\n",
      "fin\n",
      "\n",
      "start\n",
      "14\n",
      "150\n",
      "UK CO2 emissions fall again (bbc.co.uk)\n",
      "submitted 6 hours ago by carpie101\n",
      "29 commentssharesavehidereport\n",
      "fin\n",
      "\n",
      "start\n",
      "15\n",
      "178\n",
      "Japan's Deputy Prime Minister has caused consternation after appearing to blame the country's low birth-rate on women. (bbc.com)\n",
      "submitted 7 hours ago by tieir\n",
      "105 commentssharesavehidereport\n",
      "fin\n",
      "\n",
      "start\n",
      "16\n",
      "31.8k\n",
      "US prosecutors reportedly subpoena Trump golf courses in Scotland, which some Democrats worry might have been funded by Russian money (businessinsider.com)\n",
      "submitted 1 day ago by wwwdotvotedotgov\n",
      "1851 commentssharesavehidereport\n",
      "fin\n",
      "\n",
      "start\n",
      "17\n",
      "127\n",
      "Karl Marx' Grave Attacked in London (itv.com)\n",
      "submitted 6 hours ago by lofty_landlubber\n",
      "290 commentssharesavehidereport\n",
      "fin\n",
      "\n",
      "start\n",
      "18\n",
      "47\n",
      "Former ISIS sex slaves sheltered in Canada threatened with phone calls, texts (ctvnews.ca)\n",
      "submitted 2 hours ago by BeckTaxiKilledMyDog\n",
      "8 commentssharesavehidereport\n",
      "fin\n",
      "\n",
      "start\n",
      "19\n",
      "3118\n",
      "Norway urges students to avoid UK universities in Brexit warning (theguardian.com)\n",
      "submitted 1 day ago by Smilefriend\n",
      "477 commentssharesavehidereport\n",
      "fin\n",
      "\n",
      "start\n",
      "20\n",
      "48\n",
      "Melting glaciers reveal ancient landscapes, thawing mummies, and long-dead diseases (popsci.com)\n",
      "submitted 2 hours ago by asheraton\n",
      "9 commentssharesavehidereport\n",
      "fin\n",
      "\n",
      "start\n",
      "21\n",
      "205\n",
      "A third of Himalayan glaciers can no longer be saved: study (apnews.com)\n",
      "submitted 11 hours ago by thisdodobird\n",
      "29 commentssharesavehidereport\n",
      "fin\n",
      "\n",
      "start\n",
      "22\n",
      "41\n",
      "Instagram's most-liked egg revealed as mental health advert (bbc.com)\n",
      "submitted 3 hours ago by ktij\n",
      "3 commentssharesavehidereport\n",
      "fin\n",
      "\n",
      "start\n",
      "23\n",
      "24.4k\n",
      "[Update] Woman who recently outed Oprah's Brazilian faith healer \"John of God\" for murdering teenage sex slaves and running a \"baby farm\" adoption operation committed suicide yesterday. (thesun.co.uk)\n",
      "submitted 1 day ago by AppliedAspergers\n",
      "2077 commentssharesavehidereport\n",
      "fin\n",
      "\n",
      "start\n",
      "24\n",
      "919\n",
      "Norway Intelligence Service Adds Huawei on National Security Threat List (tnp.no)\n",
      "submitted 21 hours ago by ahm713\n",
      "143 commentssharesavehidereport\n",
      "fin\n",
      "\n",
      "start\n",
      "25\n",
      "73\n",
      "Thaw of Himalayas set to disrupt Asia's rivers, crops: study (in.reuters.com)\n",
      "submitted 7 hours ago by joblessnerd\n",
      "6 commentssharesavehidereport\n",
      "fin\n",
      "\n"
     ]
    }
   ],
   "source": [
    "for element in elements:\n",
    "    print('start')\n",
    "    print(element.text)\n",
    "    print('fin\\n')"
   ]
  },
  {
   "cell_type": "code",
   "execution_count": 7,
   "metadata": {},
   "outputs": [],
   "source": [
    "ad, announce, real = elements[:3]"
   ]
  },
  {
   "cell_type": "code",
   "execution_count": 8,
   "metadata": {},
   "outputs": [
    {
     "data": {
      "text/plain": [
       "' thing id-t3_ajcys7 link promoted odd  locked controversial promotedlink promotedlink '"
      ]
     },
     "execution_count": 8,
     "metadata": {},
     "output_type": "execute_result"
    }
   ],
   "source": [
    "ad.get_attribute('class')"
   ]
  },
  {
   "cell_type": "code",
   "execution_count": 9,
   "metadata": {},
   "outputs": [
    {
     "name": "stdout",
     "output_type": "stream",
     "text": [
      " thing id-t3_ajcys7 link promoted odd  locked controversial promotedlink promotedlink \n",
      " thing id-t3_an2czo linkflair linkflair-normal odd  stickied link self\n",
      " thing id-t3_and1e7 even  link \n",
      " thing id-t3_ancmpi linkflair linkflair-trump odd  link \n",
      " thing id-t3_anemro linkflair linkflair-trump even  link \n",
      " thing id-t3_ana4d6 odd  link \n",
      " thing id-t3_and8py even  link \n",
      " thing id-t3_andba5 odd  link \n",
      " thing id-t3_andmf6 even  link \n",
      " thing id-t3_ancfm0 odd  link \n",
      " thing id-t3_anepc0 linkflair linkflair-trump even  link \n",
      " thing id-t3_an800u odd  link \n",
      " thing id-t3_anefo2 even  link \n",
      " thing id-t3_an8hqq odd  link \n",
      " thing id-t3_anckr3 even  link \n",
      " thing id-t3_andg6e odd  link \n",
      " thing id-t3_ancza2 even  link \n",
      " thing id-t3_an25vp linkflair linkflair-trump odd  link \n",
      " thing id-t3_andfac even  link \n",
      " thing id-t3_anfdjw odd  link \n",
      " thing id-t3_an3qg7 even  link \n",
      " thing id-t3_anf42y odd  link \n",
      " thing id-t3_anbm2e even  link \n",
      " thing id-t3_anevjp odd  link \n",
      " thing id-t3_an0cnt even  link \n",
      " thing id-t3_an6bz0 odd  link \n",
      " thing id-t3_ancvr2 even  link \n"
     ]
    }
   ],
   "source": [
    "for element in elements:\n",
    "    print(element.get_attribute('class'))"
   ]
  },
  {
   "cell_type": "markdown",
   "metadata": {},
   "source": [
    "It appears real valid hot submissions elements have a class that does not include promoted or stickied   \n",
    "Will have to test on other pages to confirm  "
   ]
  },
  {
   "cell_type": "code",
   "execution_count": 10,
   "metadata": {},
   "outputs": [
    {
     "name": "stdout",
     "output_type": "stream",
     "text": [
      "_ \n",
      "_ \n",
      "_ 1\n",
      "_ 2\n",
      "_ 3\n",
      "_ 4\n",
      "_ 5\n",
      "_ 6\n",
      "_ 7\n",
      "_ 8\n",
      "_ 9\n",
      "_ 10\n",
      "_ 11\n",
      "_ 12\n",
      "_ 13\n",
      "_ 14\n",
      "_ 15\n",
      "_ 16\n",
      "_ 17\n",
      "_ 18\n",
      "_ 19\n",
      "_ 20\n",
      "_ 21\n",
      "_ 22\n",
      "_ 23\n",
      "_ 24\n",
      "_ 25\n"
     ]
    }
   ],
   "source": [
    "for element in elements:\n",
    "    print('_', element.get_attribute('data-rank'))"
   ]
  },
  {
   "cell_type": "markdown",
   "metadata": {},
   "source": [
    "We can conditionally select only elements that have a rank!"
   ]
  },
  {
   "cell_type": "code",
   "execution_count": 11,
   "metadata": {},
   "outputs": [
    {
     "data": {
      "text/plain": [
       "(25,\n",
       " '1\\n9601\\nFemale genital mutilation (FGM) is increasingly being performed on babies and infants in the UK - In one report, in Yorkshire, a victim was just one month old. (bbc.com)\\nsubmitted 7 hours ago by mvea\\n2938 commentssharesavehidereport')"
      ]
     },
     "execution_count": 11,
     "metadata": {},
     "output_type": "execute_result"
    }
   ],
   "source": [
    "pruned_elements = [element for element in elements if element.get_attribute('data-rank')]\n",
    "len(pruned_elements), pruned_elements[0].text"
   ]
  },
  {
   "cell_type": "markdown",
   "metadata": {},
   "source": [
    "Can we get the features from these elements?"
   ]
  },
  {
   "cell_type": "code",
   "execution_count": 12,
   "metadata": {},
   "outputs": [
    {
     "name": "stdout",
     "output_type": "stream",
     "text": [
      "1\n",
      "9601\n",
      "Female genital mutilation (FGM) is increasingly being performed on babies and infants in the UK - In one report, in Yorkshire, a victim was just one month old. (bbc.com)\n",
      "submitted 7 hours ago by mvea\n",
      "2938 commentssharesavehidereport\n",
      "2\n",
      "14.3k\n",
      "Trump Says He Wants US Troops in Iraq to \"Watch Iran.\" Iraqis' Response: Get Out. \"Trump did not ask us to keep U.S. troops to watch Iran,\" says Iraqi president. (commondreams.org)\n",
      "submitted 8 hours ago by madazzahatter\n",
      "1166 commentssharesavehidereport\n",
      "3\n",
      "1259\n",
      "Secret Files Show How Trump Moscow Talks Unfolded While Trump Heaped Praise On Putin (buzzfeed.com)\n",
      "submitted 3 hours ago by wwwdotvotedotgov\n",
      "168 commentssharesavehidereport\n"
     ]
    }
   ],
   "source": [
    "for element in pruned_elements[:3]:\n",
    "    print(element.text)"
   ]
  },
  {
   "cell_type": "code",
   "execution_count": 13,
   "metadata": {},
   "outputs": [
    {
     "data": {
      "text/plain": [
       "['1',\n",
       " '9601',\n",
       " 'Female genital mutilation (FGM) is increasingly being performed on babies and infants in the UK - In one report, in Yorkshire, a victim was just one month old. (bbc.com)',\n",
       " 'submitted 7 hours ago by mvea',\n",
       " '2938 commentssharesavehidereport']"
      ]
     },
     "execution_count": 13,
     "metadata": {},
     "output_type": "execute_result"
    }
   ],
   "source": [
    "real.text.split('\\n')"
   ]
  },
  {
   "cell_type": "markdown",
   "metadata": {},
   "source": [
    "Could hacky get these, is there a better way to access the elements inside the elements??"
   ]
  },
  {
   "cell_type": "code",
   "execution_count": 14,
   "metadata": {},
   "outputs": [
    {
     "data": {
      "text/plain": [
       "'Female genital mutilation (FGM) is increasingly being performed on babies and infants in the UK - In one report, in Yorkshire, a victim was just one month old.'"
      ]
     },
     "execution_count": 14,
     "metadata": {},
     "output_type": "execute_result"
    }
   ],
   "source": [
    "real.find_element_by_css_selector('a.title.may-blank.outbound').text"
   ]
  },
  {
   "cell_type": "markdown",
   "metadata": {},
   "source": [
    "This appears to have extracted the text more accurately  \n",
    "Sanity check for each element?"
   ]
  },
  {
   "cell_type": "code",
   "execution_count": 15,
   "metadata": {},
   "outputs": [
    {
     "name": "stdout",
     "output_type": "stream",
     "text": [
      "1 - - Female genital mutilation (FGM) is increasingly being performed on babies and infants in the UK - In one report, in Yorkshire, a victim was just one month old. \n",
      "\n",
      "2 - - Trump Says He Wants US Troops in Iraq to \"Watch Iran.\" Iraqis' Response: Get Out. \"Trump did not ask us to keep U.S. troops to watch Iran,\" says Iraqi president. \n",
      "\n",
      "3 - - Secret Files Show How Trump Moscow Talks Unfolded While Trump Heaped Praise On Putin \n",
      "\n",
      "4 - - Father of American missionary who was killed while trying to convert isolated Indian Ocean tribe blames evangelicals' 'extreme Christianity' for the death of his 'innocent child \n",
      "\n",
      "5 - - A Belgian environment minister is facing a storm of protest after falsely claiming the country’s intelligence services held evidence that children skipping school to demonstrate over climate change are being directed by unnamed powers. \n",
      "\n",
      "6 - - Saudi Female Activists Subject to Torture, Kept in Inhumane Conditions - British MPs Report \n",
      "\n",
      "7 - - Poachers driving African parrots extinct in spiralling ‘exotic’ pet trade, investigators say \n",
      "\n",
      "8 - - Arrests made after Al Jazeera investigation into French far right \n",
      "\n",
      "9 - - Secret Files Show How Trump Moscow Talks Unfolded While Trump Heaped Praise On Putin \n",
      "\n",
      "10 - - Gut Bacteria Linked to Depression Identified \n",
      "\n",
      "11 - - Rights group says global democracy ‘in retreat’ for 13th year \n",
      "\n",
      "12 - - A defiant Mark Zuckerberg says people are focusing on the 'negative' aspects of Facebook's impact on the world \n",
      "\n",
      "13 - - Khashoggi's fiancee publishes book in memory of slain journalist \n",
      "\n",
      "14 - - UK CO2 emissions fall again \n",
      "\n",
      "15 - - Japan's Deputy Prime Minister has caused consternation after appearing to blame the country's low birth-rate on women. \n",
      "\n",
      "16 - - US prosecutors reportedly subpoena Trump golf courses in Scotland, which some Democrats worry might have been funded by Russian money \n",
      "\n",
      "17 - - Karl Marx' Grave Attacked in London \n",
      "\n",
      "18 - - Former ISIS sex slaves sheltered in Canada threatened with phone calls, texts \n",
      "\n",
      "19 - - Norway urges students to avoid UK universities in Brexit warning \n",
      "\n",
      "20 - - Melting glaciers reveal ancient landscapes, thawing mummies, and long-dead diseases \n",
      "\n",
      "21 - - A third of Himalayan glaciers can no longer be saved: study \n",
      "\n",
      "22 - - Instagram's most-liked egg revealed as mental health advert \n",
      "\n",
      "23 - - [Update] Woman who recently outed Oprah's Brazilian faith healer \"John of God\" for murdering teenage sex slaves and running a \"baby farm\" adoption operation committed suicide yesterday. \n",
      "\n",
      "24 - - Norway Intelligence Service Adds Huawei on National Security Threat List \n",
      "\n",
      "25 - - Thaw of Himalayas set to disrupt Asia's rivers, crops: study \n",
      "\n"
     ]
    }
   ],
   "source": [
    "for i, element in enumerate(pruned_elements):\n",
    "    title = element.find_element_by_css_selector('a.title.may-blank.outbound')\n",
    "    print(i+1, '- -', title.text, '\\n')"
   ]
  },
  {
   "cell_type": "markdown",
   "metadata": {},
   "source": [
    "That works can we extract score, comment count, age, and timestamp as well?"
   ]
  },
  {
   "cell_type": "code",
   "execution_count": 16,
   "metadata": {},
   "outputs": [],
   "source": [
    "title = real.find_element_by_css_selector('a.title.may-blank.outbound')\n",
    "time = real.find_element_by_css_selector('time.live-timestamp')"
   ]
  },
  {
   "cell_type": "code",
   "execution_count": 17,
   "metadata": {},
   "outputs": [
    {
     "name": "stdout",
     "output_type": "stream",
     "text": [
      "text: Female genital mutilation (FGM) is increasingly being performed on babies and infants in the UK - In one report, in Yorkshire, a victim was just one month old.,\n",
      "\n",
      "score: 9601,\n",
      "\n",
      "num_comments: 2938,\n",
      "\n",
      "age: 7 hours ago,\n",
      "\n",
      "timestamp: Tue Feb 5 11:01:00 2019 UTC\n"
     ]
    }
   ],
   "source": [
    "print(f\"\"\"text: {title.text},\\n\n",
    "score: {real.get_attribute('data-score')},\\n\n",
    "num_comments: {real.get_attribute('data-comments-count')},\\n\n",
    "age: {time.text},\\n\n",
    "timestamp: {time.get_attribute('title')}\"\"\")"
   ]
  },
  {
   "cell_type": "markdown",
   "metadata": {},
   "source": [
    "## WELL THATS PROMISING!"
   ]
  },
  {
   "cell_type": "code",
   "execution_count": 49,
   "metadata": {},
   "outputs": [],
   "source": [
    "def retrieve_submissions_data(element):\n",
    "    \"\"\"Extract text, and metadata for a reddit \n",
    "    submission from a web selenium web element.\n",
    "    Returns a dictionary for storage in json.\"\"\"\n",
    "    title_sel = 'a.title.may-blank.outbound'\n",
    "    time_sel = 'time.live-timestamp'\n",
    "    title_element = element.find_elements_by_css_selector(title_sel)\n",
    "    time_element = element.find_element_by_css_selector(time_sel)\n",
    "    data = {}\n",
    "    data['text'] = title.text\n",
    "    data['age'] = time_element.text\n",
    "    data['timestamp'] = time_element.get_attribute('title')\n",
    "    data['score'] = element.get_attribute('data-score')\n",
    "    data['num_comments'] = element.get_attribute('data-comments-count')\n",
    "    return data"
   ]
  },
  {
   "cell_type": "code",
   "execution_count": 50,
   "metadata": {},
   "outputs": [
    {
     "data": {
      "text/plain": [
       "{'text': 'Female genital mutilation (FGM) is increasingly being performed on babies and infants in the UK - In one report, in Yorkshire, a victim was just one month old.',\n",
       " 'age': '7 hours ago',\n",
       " 'timestamp': 'Tue Feb 5 11:01:00 2019 UTC',\n",
       " 'score': '9601',\n",
       " 'num_comments': '2938'}"
      ]
     },
     "execution_count": 50,
     "metadata": {},
     "output_type": "execute_result"
    }
   ],
   "source": [
    "retrieve_submissions_data(real)"
   ]
  },
  {
   "cell_type": "code",
   "execution_count": 20,
   "metadata": {},
   "outputs": [],
   "source": [
    "# retrieve_submissions_data(ad)   chucks an error for the advert ... doesn't have a timestamp selector"
   ]
  },
  {
   "cell_type": "code",
   "execution_count": 21,
   "metadata": {},
   "outputs": [
    {
     "data": {
      "text/plain": [
       "{'text': 'Female genital mutilation (FGM) is increasingly being performed on babies and infants in the UK - In one report, in Yorkshire, a victim was just one month old.',\n",
       " 'age': '1 day ago',\n",
       " 'timestamp': 'Mon Feb 4 14:51:11 2019 UTC',\n",
       " 'score': '234',\n",
       " 'num_comments': '193'}"
      ]
     },
     "execution_count": 21,
     "metadata": {},
     "output_type": "execute_result"
    }
   ],
   "source": [
    "retrieve_submissions_data(announce)"
   ]
  },
  {
   "cell_type": "code",
   "execution_count": 22,
   "metadata": {},
   "outputs": [
    {
     "data": {
      "text/plain": [
       "\"233\\nAMA Finished[AMA] I'm Emma Best, one of the co-founders of Distributed Denial of Secrets (@DDoSecrets) – Ask Me Anything! (self.worldnews)\\nsubmitted 1 day ago * by NatSecGeekEmma Best - announcement\\n196 commentssharesavehidereport\""
      ]
     },
     "execution_count": 22,
     "metadata": {},
     "output_type": "execute_result"
    }
   ],
   "source": [
    "announce.text"
   ]
  },
  {
   "cell_type": "markdown",
   "metadata": {},
   "source": [
    "### Interestingly the title element for the announce provides different text from the main element text\n",
    "Lets run a test to catch everything accurately from the entire page\n",
    "To start define a function to perform the tests from above for skipping adverts and announcement"
   ]
  },
  {
   "cell_type": "code",
   "execution_count": 23,
   "metadata": {},
   "outputs": [],
   "source": [
    "def retrieve_ranked_elements(browser):\n",
    "    \"\"\"Extracts div elements for ranked submissions\n",
    "    from a selenium browser. Skips adverts and announcements.\n",
    "    Returns a list of selenium elements\"\"\"\n",
    "    wildcard_sel = '//*[contains(@id, \"thing\")]'\n",
    "    els = browser.find_elements_by_xpath(wildcard_sel)\n",
    "        # If the element doesn't have a data-rank we want to skip it\n",
    "    ranked_elements = [el for el in els if el.get_attribute('data-rank')]\n",
    "    return ranked_elements"
   ]
  },
  {
   "cell_type": "markdown",
   "metadata": {},
   "source": [
    "To The Test!!"
   ]
  },
  {
   "cell_type": "code",
   "execution_count": 25,
   "metadata": {},
   "outputs": [
    {
     "data": {
      "text/plain": [
       "[<selenium.webdriver.remote.webelement.WebElement (session=\"fa5fa8c5c0fe618485d40d6a3d8614d0\", element=\"0.09480177699817038-4\")>,\n",
       " <selenium.webdriver.remote.webelement.WebElement (session=\"fa5fa8c5c0fe618485d40d6a3d8614d0\", element=\"0.09480177699817038-5\")>,\n",
       " <selenium.webdriver.remote.webelement.WebElement (session=\"fa5fa8c5c0fe618485d40d6a3d8614d0\", element=\"0.09480177699817038-6\")>,\n",
       " <selenium.webdriver.remote.webelement.WebElement (session=\"fa5fa8c5c0fe618485d40d6a3d8614d0\", element=\"0.09480177699817038-7\")>,\n",
       " <selenium.webdriver.remote.webelement.WebElement (session=\"fa5fa8c5c0fe618485d40d6a3d8614d0\", element=\"0.09480177699817038-8\")>,\n",
       " <selenium.webdriver.remote.webelement.WebElement (session=\"fa5fa8c5c0fe618485d40d6a3d8614d0\", element=\"0.09480177699817038-9\")>,\n",
       " <selenium.webdriver.remote.webelement.WebElement (session=\"fa5fa8c5c0fe618485d40d6a3d8614d0\", element=\"0.09480177699817038-10\")>,\n",
       " <selenium.webdriver.remote.webelement.WebElement (session=\"fa5fa8c5c0fe618485d40d6a3d8614d0\", element=\"0.09480177699817038-11\")>,\n",
       " <selenium.webdriver.remote.webelement.WebElement (session=\"fa5fa8c5c0fe618485d40d6a3d8614d0\", element=\"0.09480177699817038-12\")>,\n",
       " <selenium.webdriver.remote.webelement.WebElement (session=\"fa5fa8c5c0fe618485d40d6a3d8614d0\", element=\"0.09480177699817038-13\")>,\n",
       " <selenium.webdriver.remote.webelement.WebElement (session=\"fa5fa8c5c0fe618485d40d6a3d8614d0\", element=\"0.09480177699817038-14\")>,\n",
       " <selenium.webdriver.remote.webelement.WebElement (session=\"fa5fa8c5c0fe618485d40d6a3d8614d0\", element=\"0.09480177699817038-15\")>,\n",
       " <selenium.webdriver.remote.webelement.WebElement (session=\"fa5fa8c5c0fe618485d40d6a3d8614d0\", element=\"0.09480177699817038-16\")>,\n",
       " <selenium.webdriver.remote.webelement.WebElement (session=\"fa5fa8c5c0fe618485d40d6a3d8614d0\", element=\"0.09480177699817038-17\")>,\n",
       " <selenium.webdriver.remote.webelement.WebElement (session=\"fa5fa8c5c0fe618485d40d6a3d8614d0\", element=\"0.09480177699817038-18\")>,\n",
       " <selenium.webdriver.remote.webelement.WebElement (session=\"fa5fa8c5c0fe618485d40d6a3d8614d0\", element=\"0.09480177699817038-19\")>,\n",
       " <selenium.webdriver.remote.webelement.WebElement (session=\"fa5fa8c5c0fe618485d40d6a3d8614d0\", element=\"0.09480177699817038-20\")>,\n",
       " <selenium.webdriver.remote.webelement.WebElement (session=\"fa5fa8c5c0fe618485d40d6a3d8614d0\", element=\"0.09480177699817038-21\")>,\n",
       " <selenium.webdriver.remote.webelement.WebElement (session=\"fa5fa8c5c0fe618485d40d6a3d8614d0\", element=\"0.09480177699817038-22\")>,\n",
       " <selenium.webdriver.remote.webelement.WebElement (session=\"fa5fa8c5c0fe618485d40d6a3d8614d0\", element=\"0.09480177699817038-23\")>,\n",
       " <selenium.webdriver.remote.webelement.WebElement (session=\"fa5fa8c5c0fe618485d40d6a3d8614d0\", element=\"0.09480177699817038-24\")>,\n",
       " <selenium.webdriver.remote.webelement.WebElement (session=\"fa5fa8c5c0fe618485d40d6a3d8614d0\", element=\"0.09480177699817038-25\")>,\n",
       " <selenium.webdriver.remote.webelement.WebElement (session=\"fa5fa8c5c0fe618485d40d6a3d8614d0\", element=\"0.09480177699817038-26\")>,\n",
       " <selenium.webdriver.remote.webelement.WebElement (session=\"fa5fa8c5c0fe618485d40d6a3d8614d0\", element=\"0.09480177699817038-27\")>,\n",
       " <selenium.webdriver.remote.webelement.WebElement (session=\"fa5fa8c5c0fe618485d40d6a3d8614d0\", element=\"0.09480177699817038-28\")>]"
      ]
     },
     "execution_count": 25,
     "metadata": {},
     "output_type": "execute_result"
    }
   ],
   "source": [
    "retrieve_ranked_elements(browser)"
   ]
  },
  {
   "cell_type": "code",
   "execution_count": 31,
   "metadata": {},
   "outputs": [
    {
     "name": "stdout",
     "output_type": "stream",
     "text": [
      "{'text': 'Female genital mutilation (FGM) is increasingly being performed on babies and infants in the UK - In one report, in Yorkshire, a victim was just one month old.', 'age': '7 hours ago', 'timestamp': 'Tue Feb 5 11:01:00 2019 UTC', 'score': '9601', 'num_comments': '2938'}\n",
      "{'text': 'Female genital mutilation (FGM) is increasingly being performed on babies and infants in the UK - In one report, in Yorkshire, a victim was just one month old.', 'age': '8 hours ago', 'timestamp': 'Tue Feb 5 09:53:18 2019 UTC', 'score': '14324', 'num_comments': '1166'}\n",
      "{'text': 'Female genital mutilation (FGM) is increasingly being performed on babies and infants in the UK - In one report, in Yorkshire, a victim was just one month old.', 'age': '3 hours ago', 'timestamp': 'Tue Feb 5 14:32:18 2019 UTC', 'score': '1259', 'num_comments': '168'}\n",
      "{'text': 'Female genital mutilation (FGM) is increasingly being performed on babies and infants in the UK - In one report, in Yorkshire, a victim was just one month old.', 'age': '14 hours ago', 'timestamp': 'Tue Feb 5 03:44:02 2019 UTC', 'score': '4730', 'num_comments': '796'}\n",
      "{'text': 'Female genital mutilation (FGM) is increasingly being performed on babies and infants in the UK - In one report, in Yorkshire, a victim was just one month old.', 'age': '6 hours ago', 'timestamp': 'Tue Feb 5 11:33:50 2019 UTC', 'score': '784', 'num_comments': '120'}\n",
      "{'text': 'Female genital mutilation (FGM) is increasingly being performed on babies and infants in the UK - In one report, in Yorkshire, a victim was just one month old.', 'age': '6 hours ago', 'timestamp': 'Tue Feb 5 11:45:13 2019 UTC', 'score': '569', 'num_comments': '45'}\n",
      "{'text': 'Female genital mutilation (FGM) is increasingly being performed on babies and infants in the UK - In one report, in Yorkshire, a victim was just one month old.', 'age': '5 hours ago', 'timestamp': 'Tue Feb 5 12:29:11 2019 UTC', 'score': '417', 'num_comments': '26'}\n",
      "{'text': 'Female genital mutilation (FGM) is increasingly being performed on babies and infants in the UK - In one report, in Yorkshire, a victim was just one month old.', 'age': '8 hours ago', 'timestamp': 'Tue Feb 5 09:16:38 2019 UTC', 'score': '710', 'num_comments': '78'}\n",
      "{'text': 'Female genital mutilation (FGM) is increasingly being performed on babies and infants in the UK - In one report, in Yorkshire, a victim was just one month old.', 'age': '3 hours ago', 'timestamp': 'Tue Feb 5 14:40:16 2019 UTC', 'score': '238', 'num_comments': '117'}\n",
      "{'text': 'Female genital mutilation (FGM) is increasingly being performed on babies and infants in the UK - In one report, in Yorkshire, a victim was just one month old.', 'age': '18 hours ago', 'timestamp': 'Mon Feb 4 23:49:01 2019 UTC', 'score': '3325', 'num_comments': '603'}\n",
      "{'text': 'Female genital mutilation (FGM) is increasingly being performed on babies and infants in the UK - In one report, in Yorkshire, a victim was just one month old.', 'age': '3 hours ago', 'timestamp': 'Tue Feb 5 14:09:28 2019 UTC', 'score': '220', 'num_comments': '40'}\n",
      "{'text': 'Female genital mutilation (FGM) is increasingly being performed on babies and infants in the UK - In one report, in Yorkshire, a victim was just one month old.', 'age': '17 hours ago', 'timestamp': 'Tue Feb 5 00:42:05 2019 UTC', 'score': '2179', 'num_comments': '511'}\n",
      "{'text': 'Female genital mutilation (FGM) is increasingly being performed on babies and infants in the UK - In one report, in Yorkshire, a victim was just one month old.', 'age': '8 hours ago', 'timestamp': 'Tue Feb 5 09:43:18 2019 UTC', 'score': '268', 'num_comments': '27'}\n",
      "{'text': 'Female genital mutilation (FGM) is increasingly being performed on babies and infants in the UK - In one report, in Yorkshire, a victim was just one month old.', 'age': '6 hours ago', 'timestamp': 'Tue Feb 5 12:04:41 2019 UTC', 'score': '150', 'num_comments': '29'}\n",
      "{'text': 'Female genital mutilation (FGM) is increasingly being performed on babies and infants in the UK - In one report, in Yorkshire, a victim was just one month old.', 'age': '7 hours ago', 'timestamp': 'Tue Feb 5 10:51:30 2019 UTC', 'score': '178', 'num_comments': '105'}\n",
      "{'text': 'Female genital mutilation (FGM) is increasingly being performed on babies and infants in the UK - In one report, in Yorkshire, a victim was just one month old.', 'age': '1 day ago', 'timestamp': 'Mon Feb 4 14:28:44 2019 UTC', 'score': '31754', 'num_comments': '1851'}\n",
      "{'text': 'Female genital mutilation (FGM) is increasingly being performed on babies and infants in the UK - In one report, in Yorkshire, a victim was just one month old.', 'age': '6 hours ago', 'timestamp': 'Tue Feb 5 12:01:40 2019 UTC', 'score': '127', 'num_comments': '290'}\n",
      "{'text': 'Female genital mutilation (FGM) is increasingly being performed on babies and infants in the UK - In one report, in Yorkshire, a victim was just one month old.', 'age': '2 hours ago', 'timestamp': 'Tue Feb 5 15:50:12 2019 UTC', 'score': '47', 'num_comments': '8'}\n",
      "{'text': 'Female genital mutilation (FGM) is increasingly being performed on babies and infants in the UK - In one report, in Yorkshire, a victim was just one month old.', 'age': '1 day ago', 'timestamp': 'Mon Feb 4 17:07:48 2019 UTC', 'score': '3118', 'num_comments': '477'}\n",
      "{'text': 'Female genital mutilation (FGM) is increasingly being performed on babies and infants in the UK - In one report, in Yorkshire, a victim was just one month old.', 'age': '2 hours ago', 'timestamp': 'Tue Feb 5 15:23:34 2019 UTC', 'score': '48', 'num_comments': '9'}\n",
      "{'text': 'Female genital mutilation (FGM) is increasingly being performed on babies and infants in the UK - In one report, in Yorkshire, a victim was just one month old.', 'age': '11 hours ago', 'timestamp': 'Tue Feb 5 06:55:36 2019 UTC', 'score': '205', 'num_comments': '29'}\n",
      "{'text': 'Female genital mutilation (FGM) is increasingly being performed on babies and infants in the UK - In one report, in Yorkshire, a victim was just one month old.', 'age': '3 hours ago', 'timestamp': 'Tue Feb 5 14:59:10 2019 UTC', 'score': '41', 'num_comments': '3'}\n",
      "{'text': 'Female genital mutilation (FGM) is increasingly being performed on babies and infants in the UK - In one report, in Yorkshire, a victim was just one month old.', 'age': '1 day ago', 'timestamp': 'Mon Feb 4 10:16:41 2019 UTC', 'score': '24354', 'num_comments': '2077'}\n",
      "{'text': 'Female genital mutilation (FGM) is increasingly being performed on babies and infants in the UK - In one report, in Yorkshire, a victim was just one month old.', 'age': '21 hours ago', 'timestamp': 'Mon Feb 4 21:05:52 2019 UTC', 'score': '919', 'num_comments': '143'}\n",
      "{'text': 'Female genital mutilation (FGM) is increasingly being performed on babies and infants in the UK - In one report, in Yorkshire, a victim was just one month old.', 'age': '7 hours ago', 'timestamp': 'Tue Feb 5 10:35:10 2019 UTC', 'score': '73', 'num_comments': '6'}\n"
     ]
    }
   ],
   "source": [
    "for i in range(25):\n",
    "    print(retrieve_submissions_data(retrieve_ranked_elements(browser)[i]))"
   ]
  },
  {
   "cell_type": "markdown",
   "metadata": {},
   "source": [
    "Weird I Broked It"
   ]
  },
  {
   "cell_type": "code",
   "execution_count": 39,
   "metadata": {},
   "outputs": [
    {
     "data": {
      "text/plain": [
       "{'text': 'Female genital mutilation (FGM) is increasingly being performed on babies and infants in the UK - In one report, in Yorkshire, a victim was just one month old.',\n",
       " 'age': '3 hours ago',\n",
       " 'timestamp': 'Tue Feb 5 14:32:18 2019 UTC',\n",
       " 'score': '1259',\n",
       " 'num_comments': '168'}"
      ]
     },
     "execution_count": 39,
     "metadata": {},
     "output_type": "execute_result"
    }
   ],
   "source": [
    "retrieve_submissions_data(retrieve_ranked_elements(browser)[2])"
   ]
  },
  {
   "cell_type": "markdown",
   "metadata": {},
   "source": [
    "## Hmm ... the data other than text is accurate!"
   ]
  },
  {
   "cell_type": "code",
   "execution_count": 46,
   "metadata": {},
   "outputs": [
    {
     "name": "stdout",
     "output_type": "stream",
     "text": [
      "1\n",
      "9601\n",
      "Female genital mutilation (FGM) is increasingly being performed on babies and infants in the UK - In one report, in Yorkshire, a victim was just one month old. (bbc.com)\n",
      "submitted 7 hours ago by mvea\n",
      "2938 commentssharesavehidereport\n",
      "- -\n",
      "{'text': 'Female genital mutilation (FGM) is increasingly being performed on babies and infants in the UK - In one report, in Yorkshire, a victim was just one month old.', 'age': '7 hours ago', 'timestamp': 'Tue Feb 5 11:01:00 2019 UTC', 'score': '9601', 'num_comments': '2938'}\n",
      "- - - -\n",
      "2\n",
      "14.3k\n",
      "Trump Says He Wants US Troops in Iraq to \"Watch Iran.\" Iraqis' Response: Get Out. \"Trump did not ask us to keep U.S. troops to watch Iran,\" says Iraqi president. (commondreams.org)\n",
      "submitted 8 hours ago by madazzahatter\n",
      "1166 commentssharesavehidereport\n",
      "- -\n",
      "{'text': 'Female genital mutilation (FGM) is increasingly being performed on babies and infants in the UK - In one report, in Yorkshire, a victim was just one month old.', 'age': '8 hours ago', 'timestamp': 'Tue Feb 5 09:53:18 2019 UTC', 'score': '14324', 'num_comments': '1166'}\n",
      "- - - -\n",
      "3\n",
      "1259\n",
      "Secret Files Show How Trump Moscow Talks Unfolded While Trump Heaped Praise On Putin (buzzfeed.com)\n",
      "submitted 3 hours ago by wwwdotvotedotgov\n",
      "168 commentssharesavehidereport\n",
      "- -\n",
      "{'text': 'Female genital mutilation (FGM) is increasingly being performed on babies and infants in the UK - In one report, in Yorkshire, a victim was just one month old.', 'age': '3 hours ago', 'timestamp': 'Tue Feb 5 14:32:18 2019 UTC', 'score': '1259', 'num_comments': '168'}\n",
      "- - - -\n",
      "4\n",
      "4730\n",
      "Father of American missionary who was killed while trying to convert isolated Indian Ocean tribe blames evangelicals' 'extreme Christianity' for the death of his 'innocent child (dailymail.co.uk)\n",
      "submitted 14 hours ago by TekOg\n",
      "796 commentssharesavehidereport\n",
      "- -\n",
      "{'text': 'Female genital mutilation (FGM) is increasingly being performed on babies and infants in the UK - In one report, in Yorkshire, a victim was just one month old.', 'age': '14 hours ago', 'timestamp': 'Tue Feb 5 03:44:02 2019 UTC', 'score': '4730', 'num_comments': '796'}\n",
      "- - - -\n",
      "5\n",
      "784\n",
      "A Belgian environment minister is facing a storm of protest after falsely claiming the country’s intelligence services held evidence that children skipping school to demonstrate over climate change are being directed by unnamed powers. (theguardian.com)\n",
      "submitted 6 hours ago by ManiaforBeatles\n",
      "120 commentssharesavehidereport\n",
      "- -\n",
      "{'text': 'Female genital mutilation (FGM) is increasingly being performed on babies and infants in the UK - In one report, in Yorkshire, a victim was just one month old.', 'age': '6 hours ago', 'timestamp': 'Tue Feb 5 11:33:50 2019 UTC', 'score': '784', 'num_comments': '120'}\n",
      "- - - -\n",
      "6\n",
      "569\n",
      "Saudi Female Activists Subject to Torture, Kept in Inhumane Conditions - British MPs Report (albawaba.com)\n",
      "submitted 6 hours ago by ahm713\n",
      "45 commentssharesavehidereport\n",
      "- -\n",
      "{'text': 'Female genital mutilation (FGM) is increasingly being performed on babies and infants in the UK - In one report, in Yorkshire, a victim was just one month old.', 'age': '6 hours ago', 'timestamp': 'Tue Feb 5 11:45:13 2019 UTC', 'score': '569', 'num_comments': '45'}\n",
      "- - - -\n",
      "7\n",
      "417\n",
      "Poachers driving African parrots extinct in spiralling ‘exotic’ pet trade, investigators say (independent.co.uk)\n",
      "submitted 5 hours ago by QuietCakeBionics\n",
      "26 commentssharesavehidereport\n",
      "- -\n",
      "{'text': 'Female genital mutilation (FGM) is increasingly being performed on babies and infants in the UK - In one report, in Yorkshire, a victim was just one month old.', 'age': '5 hours ago', 'timestamp': 'Tue Feb 5 12:29:11 2019 UTC', 'score': '417', 'num_comments': '26'}\n",
      "- - - -\n",
      "8\n",
      "710\n",
      "Arrests made after Al Jazeera investigation into French far right (aljazeera.com)\n",
      "submitted 8 hours ago by CatsEyesInTheDark\n",
      "78 commentssharesavehidereport\n",
      "- -\n",
      "{'text': 'Female genital mutilation (FGM) is increasingly being performed on babies and infants in the UK - In one report, in Yorkshire, a victim was just one month old.', 'age': '8 hours ago', 'timestamp': 'Tue Feb 5 09:16:38 2019 UTC', 'score': '710', 'num_comments': '78'}\n",
      "- - - -\n",
      "9\n",
      "238\n",
      "Secret Files Show How Trump Moscow Talks Unfolded While Trump Heaped Praise On Putin (buzzfeednews.com)\n",
      "submitted 3 hours ago by tank_trap\n",
      "117 commentssharesavehidereport\n",
      "- -\n",
      "{'text': 'Female genital mutilation (FGM) is increasingly being performed on babies and infants in the UK - In one report, in Yorkshire, a victim was just one month old.', 'age': '3 hours ago', 'timestamp': 'Tue Feb 5 14:40:16 2019 UTC', 'score': '238', 'num_comments': '117'}\n",
      "- - - -\n",
      "10\n",
      "3325\n",
      "Gut Bacteria Linked to Depression Identified (neurosciencenews.com)\n",
      "submitted 18 hours ago by StcStasi\n",
      "603 commentssharesavehidereport\n",
      "- -\n",
      "{'text': 'Female genital mutilation (FGM) is increasingly being performed on babies and infants in the UK - In one report, in Yorkshire, a victim was just one month old.', 'age': '18 hours ago', 'timestamp': 'Mon Feb 4 23:49:01 2019 UTC', 'score': '3325', 'num_comments': '603'}\n",
      "- - - -\n",
      "11\n",
      "220\n",
      "Rights group says global democracy ‘in retreat’ for 13th year (politico.eu)\n",
      "submitted 3 hours ago by ThucydidesOfAthens\n",
      "40 commentssharesavehidereport\n",
      "- -\n",
      "{'text': 'Female genital mutilation (FGM) is increasingly being performed on babies and infants in the UK - In one report, in Yorkshire, a victim was just one month old.', 'age': '3 hours ago', 'timestamp': 'Tue Feb 5 14:09:28 2019 UTC', 'score': '220', 'num_comments': '40'}\n",
      "- - - -\n",
      "12\n",
      "2179\n",
      "A defiant Mark Zuckerberg says people are focusing on the 'negative' aspects of Facebook's impact on the world (businessinsider.com)\n",
      "submitted 17 hours ago by Devz0r\n",
      "511 commentssharesavehidereport\n",
      "- -\n",
      "{'text': 'Female genital mutilation (FGM) is increasingly being performed on babies and infants in the UK - In one report, in Yorkshire, a victim was just one month old.', 'age': '17 hours ago', 'timestamp': 'Tue Feb 5 00:42:05 2019 UTC', 'score': '2179', 'num_comments': '511'}\n",
      "- - - -\n",
      "13\n",
      "268\n",
      "Khashoggi's fiancee publishes book in memory of slain journalist (aljazeera.com)\n",
      "submitted 8 hours ago by ahm713\n",
      "27 commentssharesavehidereport\n",
      "- -\n",
      "{'text': 'Female genital mutilation (FGM) is increasingly being performed on babies and infants in the UK - In one report, in Yorkshire, a victim was just one month old.', 'age': '8 hours ago', 'timestamp': 'Tue Feb 5 09:43:18 2019 UTC', 'score': '268', 'num_comments': '27'}\n",
      "- - - -\n",
      "14\n",
      "150\n",
      "UK CO2 emissions fall again (bbc.co.uk)\n",
      "submitted 6 hours ago by carpie101\n",
      "29 commentssharesavehidereport\n",
      "- -\n",
      "{'text': 'Female genital mutilation (FGM) is increasingly being performed on babies and infants in the UK - In one report, in Yorkshire, a victim was just one month old.', 'age': '6 hours ago', 'timestamp': 'Tue Feb 5 12:04:41 2019 UTC', 'score': '150', 'num_comments': '29'}\n",
      "- - - -\n",
      "15\n",
      "178\n",
      "Japan's Deputy Prime Minister has caused consternation after appearing to blame the country's low birth-rate on women. (bbc.com)\n",
      "submitted 7 hours ago by tieir\n",
      "105 commentssharesavehidereport\n",
      "- -\n",
      "{'text': 'Female genital mutilation (FGM) is increasingly being performed on babies and infants in the UK - In one report, in Yorkshire, a victim was just one month old.', 'age': '7 hours ago', 'timestamp': 'Tue Feb 5 10:51:30 2019 UTC', 'score': '178', 'num_comments': '105'}\n",
      "- - - -\n",
      "16\n",
      "31.8k\n",
      "US prosecutors reportedly subpoena Trump golf courses in Scotland, which some Democrats worry might have been funded by Russian money (businessinsider.com)\n",
      "submitted 1 day ago by wwwdotvotedotgov\n",
      "1851 commentssharesavehidereport\n",
      "- -\n",
      "{'text': 'Female genital mutilation (FGM) is increasingly being performed on babies and infants in the UK - In one report, in Yorkshire, a victim was just one month old.', 'age': '1 day ago', 'timestamp': 'Mon Feb 4 14:28:44 2019 UTC', 'score': '31754', 'num_comments': '1851'}\n",
      "- - - -\n",
      "17\n",
      "127\n",
      "Karl Marx' Grave Attacked in London (itv.com)\n",
      "submitted 6 hours ago by lofty_landlubber\n",
      "290 commentssharesavehidereport\n",
      "- -\n",
      "{'text': 'Female genital mutilation (FGM) is increasingly being performed on babies and infants in the UK - In one report, in Yorkshire, a victim was just one month old.', 'age': '6 hours ago', 'timestamp': 'Tue Feb 5 12:01:40 2019 UTC', 'score': '127', 'num_comments': '290'}\n",
      "- - - -\n",
      "18\n",
      "47\n",
      "Former ISIS sex slaves sheltered in Canada threatened with phone calls, texts (ctvnews.ca)\n",
      "submitted 2 hours ago by BeckTaxiKilledMyDog\n",
      "8 commentssharesavehidereport\n",
      "- -\n",
      "{'text': 'Female genital mutilation (FGM) is increasingly being performed on babies and infants in the UK - In one report, in Yorkshire, a victim was just one month old.', 'age': '2 hours ago', 'timestamp': 'Tue Feb 5 15:50:12 2019 UTC', 'score': '47', 'num_comments': '8'}\n",
      "- - - -\n",
      "19\n",
      "3118\n",
      "Norway urges students to avoid UK universities in Brexit warning (theguardian.com)\n",
      "submitted 1 day ago by Smilefriend\n",
      "477 commentssharesavehidereport\n",
      "- -\n",
      "{'text': 'Female genital mutilation (FGM) is increasingly being performed on babies and infants in the UK - In one report, in Yorkshire, a victim was just one month old.', 'age': '1 day ago', 'timestamp': 'Mon Feb 4 17:07:48 2019 UTC', 'score': '3118', 'num_comments': '477'}\n",
      "- - - -\n",
      "20\n",
      "48\n",
      "Melting glaciers reveal ancient landscapes, thawing mummies, and long-dead diseases (popsci.com)\n",
      "submitted 2 hours ago by asheraton\n",
      "9 commentssharesavehidereport\n",
      "- -\n",
      "{'text': 'Female genital mutilation (FGM) is increasingly being performed on babies and infants in the UK - In one report, in Yorkshire, a victim was just one month old.', 'age': '2 hours ago', 'timestamp': 'Tue Feb 5 15:23:34 2019 UTC', 'score': '48', 'num_comments': '9'}\n",
      "- - - -\n",
      "21\n",
      "205\n",
      "A third of Himalayan glaciers can no longer be saved: study (apnews.com)\n",
      "submitted 11 hours ago by thisdodobird\n",
      "29 commentssharesavehidereport\n",
      "- -\n",
      "{'text': 'Female genital mutilation (FGM) is increasingly being performed on babies and infants in the UK - In one report, in Yorkshire, a victim was just one month old.', 'age': '11 hours ago', 'timestamp': 'Tue Feb 5 06:55:36 2019 UTC', 'score': '205', 'num_comments': '29'}\n",
      "- - - -\n",
      "22\n",
      "41\n",
      "Instagram's most-liked egg revealed as mental health advert (bbc.com)\n",
      "submitted 3 hours ago by ktij\n",
      "3 commentssharesavehidereport\n",
      "- -\n",
      "{'text': 'Female genital mutilation (FGM) is increasingly being performed on babies and infants in the UK - In one report, in Yorkshire, a victim was just one month old.', 'age': '3 hours ago', 'timestamp': 'Tue Feb 5 14:59:10 2019 UTC', 'score': '41', 'num_comments': '3'}\n",
      "- - - -\n",
      "23\n",
      "24.4k\n",
      "[Update] Woman who recently outed Oprah's Brazilian faith healer \"John of God\" for murdering teenage sex slaves and running a \"baby farm\" adoption operation committed suicide yesterday. (thesun.co.uk)\n",
      "submitted 1 day ago by AppliedAspergers\n",
      "2077 commentssharesavehidereport\n",
      "- -\n",
      "{'text': 'Female genital mutilation (FGM) is increasingly being performed on babies and infants in the UK - In one report, in Yorkshire, a victim was just one month old.', 'age': '1 day ago', 'timestamp': 'Mon Feb 4 10:16:41 2019 UTC', 'score': '24354', 'num_comments': '2077'}\n",
      "- - - -\n",
      "24\n",
      "919\n",
      "Norway Intelligence Service Adds Huawei on National Security Threat List (tnp.no)\n",
      "submitted 21 hours ago by ahm713\n",
      "143 commentssharesavehidereport\n",
      "- -\n",
      "{'text': 'Female genital mutilation (FGM) is increasingly being performed on babies and infants in the UK - In one report, in Yorkshire, a victim was just one month old.', 'age': '21 hours ago', 'timestamp': 'Mon Feb 4 21:05:52 2019 UTC', 'score': '919', 'num_comments': '143'}\n",
      "- - - -\n",
      "25\n",
      "73\n",
      "Thaw of Himalayas set to disrupt Asia's rivers, crops: study (in.reuters.com)\n",
      "submitted 7 hours ago by joblessnerd\n",
      "6 commentssharesavehidereport\n",
      "- -\n",
      "{'text': 'Female genital mutilation (FGM) is increasingly being performed on babies and infants in the UK - In one report, in Yorkshire, a victim was just one month old.', 'age': '7 hours ago', 'timestamp': 'Tue Feb 5 10:35:10 2019 UTC', 'score': '73', 'num_comments': '6'}\n",
      "- - - -\n"
     ]
    }
   ],
   "source": [
    "for i in range(25):\n",
    "    element = retrieve_ranked_elements(browser)[i]\n",
    "    print(element.text)\n",
    "    print('- -')\n",
    "    print(retrieve_submissions_data(element))\n",
    "    print('- - - -')"
   ]
  },
  {
   "cell_type": "markdown",
   "metadata": {},
   "source": [
    "### Just has to do with the submission retrieval\n",
    " Lets revisit the above code"
   ]
  },
  {
   "cell_type": "code",
   "execution_count": 52,
   "metadata": {},
   "outputs": [
    {
     "name": "stdout",
     "output_type": "stream",
     "text": [
      "1 - - Female genital mutilation (FGM) is increasingly being performed on babies and infants in the UK - In one report, in Yorkshire, a victim was just one month old. \n",
      "\n",
      "2 - - Trump Says He Wants US Troops in Iraq to \"Watch Iran.\" Iraqis' Response: Get Out. \"Trump did not ask us to keep U.S. troops to watch Iran,\" says Iraqi president. \n",
      "\n",
      "3 - - Secret Files Show How Trump Moscow Talks Unfolded While Trump Heaped Praise On Putin \n",
      "\n",
      "4 - - Father of American missionary who was killed while trying to convert isolated Indian Ocean tribe blames evangelicals' 'extreme Christianity' for the death of his 'innocent child \n",
      "\n",
      "5 - - A Belgian environment minister is facing a storm of protest after falsely claiming the country’s intelligence services held evidence that children skipping school to demonstrate over climate change are being directed by unnamed powers. \n",
      "\n",
      "6 - - Saudi Female Activists Subject to Torture, Kept in Inhumane Conditions - British MPs Report \n",
      "\n",
      "7 - - Poachers driving African parrots extinct in spiralling ‘exotic’ pet trade, investigators say \n",
      "\n",
      "8 - - Arrests made after Al Jazeera investigation into French far right \n",
      "\n",
      "9 - - Secret Files Show How Trump Moscow Talks Unfolded While Trump Heaped Praise On Putin \n",
      "\n",
      "10 - - Gut Bacteria Linked to Depression Identified \n",
      "\n",
      "11 - - Rights group says global democracy ‘in retreat’ for 13th year \n",
      "\n",
      "12 - - A defiant Mark Zuckerberg says people are focusing on the 'negative' aspects of Facebook's impact on the world \n",
      "\n",
      "13 - - Khashoggi's fiancee publishes book in memory of slain journalist \n",
      "\n",
      "14 - - UK CO2 emissions fall again \n",
      "\n",
      "15 - - Japan's Deputy Prime Minister has caused consternation after appearing to blame the country's low birth-rate on women. \n",
      "\n",
      "16 - - US prosecutors reportedly subpoena Trump golf courses in Scotland, which some Democrats worry might have been funded by Russian money \n",
      "\n",
      "17 - - Karl Marx' Grave Attacked in London \n",
      "\n",
      "18 - - Former ISIS sex slaves sheltered in Canada threatened with phone calls, texts \n",
      "\n",
      "19 - - Norway urges students to avoid UK universities in Brexit warning \n",
      "\n",
      "20 - - Melting glaciers reveal ancient landscapes, thawing mummies, and long-dead diseases \n",
      "\n",
      "21 - - A third of Himalayan glaciers can no longer be saved: study \n",
      "\n",
      "22 - - Instagram's most-liked egg revealed as mental health advert \n",
      "\n",
      "23 - - [Update] Woman who recently outed Oprah's Brazilian faith healer \"John of God\" for murdering teenage sex slaves and running a \"baby farm\" adoption operation committed suicide yesterday. \n",
      "\n",
      "24 - - Norway Intelligence Service Adds Huawei on National Security Threat List \n",
      "\n",
      "25 - - Thaw of Himalayas set to disrupt Asia's rivers, crops: study \n",
      "\n"
     ]
    }
   ],
   "source": [
    "for i, element in enumerate(pruned_elements):\n",
    "    title = element.find_element_by_css_selector('a.title.may-blank.outbound')\n",
    "    print(i+1, '- -', title.text, '\\n')       \n",
    "    \n",
    "    # THIS ONE WORKS"
   ]
  },
  {
   "cell_type": "code",
   "execution_count": 55,
   "metadata": {},
   "outputs": [
    {
     "data": {
      "text/plain": [
       "{'text': 'Saudi Female Activists Subject to Torture, Kept in Inhumane Conditions - British MPs Report',\n",
       " 'age': '6 hours ago',\n",
       " 'timestamp': 'Tue Feb 5 11:45:13 2019 UTC',\n",
       " 'score': '569',\n",
       " 'num_comments': '45'}"
      ]
     },
     "execution_count": 55,
     "metadata": {},
     "output_type": "execute_result"
    }
   ],
   "source": [
    "def retrieve_submissions_data(element):\n",
    "    \"\"\"Extract text, and metadata for a reddit \n",
    "    submission from a web selenium web element.\n",
    "    Returns a dictionary for storage in json.\"\"\"\n",
    "    title_sel = 'a.title.may-blank.outbound'\n",
    "    time_sel = 'time.live-timestamp'\n",
    "    title_element = element.find_element_by_css_selector(title_sel)      # Correcting this as find_element(singular)\n",
    "    time_element = element.find_element_by_css_selector(time_sel)             # instead of elements(plural)\n",
    "    data = {}\n",
    "    data['text'] = title_element.text   # Correcting this as title element\n",
    "    data['age'] = time_element.text\n",
    "    data['timestamp'] = time_element.get_attribute('title')\n",
    "    data['score'] = element.get_attribute('data-score')\n",
    "    data['num_comments'] = element.get_attribute('data-comments-count')\n",
    "    return data\n",
    "retrieve_submissions_data(pruned_elements[5])"
   ]
  },
  {
   "cell_type": "code",
   "execution_count": 56,
   "metadata": {},
   "outputs": [
    {
     "data": {
      "text/plain": [
       "[{'text': 'Female genital mutilation (FGM) is increasingly being performed on babies and infants in the UK - In one report, in Yorkshire, a victim was just one month old.',\n",
       "  'age': '7 hours ago',\n",
       "  'timestamp': 'Tue Feb 5 11:01:00 2019 UTC',\n",
       "  'score': '9601',\n",
       "  'num_comments': '2938'},\n",
       " {'text': 'Trump Says He Wants US Troops in Iraq to \"Watch Iran.\" Iraqis\\' Response: Get Out. \"Trump did not ask us to keep U.S. troops to watch Iran,\" says Iraqi president.',\n",
       "  'age': '8 hours ago',\n",
       "  'timestamp': 'Tue Feb 5 09:53:18 2019 UTC',\n",
       "  'score': '14324',\n",
       "  'num_comments': '1166'},\n",
       " {'text': 'Secret Files Show How Trump Moscow Talks Unfolded While Trump Heaped Praise On Putin',\n",
       "  'age': '3 hours ago',\n",
       "  'timestamp': 'Tue Feb 5 14:32:18 2019 UTC',\n",
       "  'score': '1259',\n",
       "  'num_comments': '168'},\n",
       " {'text': \"Father of American missionary who was killed while trying to convert isolated Indian Ocean tribe blames evangelicals' 'extreme Christianity' for the death of his 'innocent child\",\n",
       "  'age': '14 hours ago',\n",
       "  'timestamp': 'Tue Feb 5 03:44:02 2019 UTC',\n",
       "  'score': '4730',\n",
       "  'num_comments': '796'},\n",
       " {'text': 'A Belgian environment minister is facing a storm of protest after falsely claiming the country’s intelligence services held evidence that children skipping school to demonstrate over climate change are being directed by unnamed powers.',\n",
       "  'age': '6 hours ago',\n",
       "  'timestamp': 'Tue Feb 5 11:33:50 2019 UTC',\n",
       "  'score': '784',\n",
       "  'num_comments': '120'},\n",
       " {'text': 'Saudi Female Activists Subject to Torture, Kept in Inhumane Conditions - British MPs Report',\n",
       "  'age': '6 hours ago',\n",
       "  'timestamp': 'Tue Feb 5 11:45:13 2019 UTC',\n",
       "  'score': '569',\n",
       "  'num_comments': '45'},\n",
       " {'text': 'Poachers driving African parrots extinct in spiralling ‘exotic’ pet trade, investigators say',\n",
       "  'age': '5 hours ago',\n",
       "  'timestamp': 'Tue Feb 5 12:29:11 2019 UTC',\n",
       "  'score': '417',\n",
       "  'num_comments': '26'},\n",
       " {'text': 'Arrests made after Al Jazeera investigation into French far right',\n",
       "  'age': '8 hours ago',\n",
       "  'timestamp': 'Tue Feb 5 09:16:38 2019 UTC',\n",
       "  'score': '710',\n",
       "  'num_comments': '78'},\n",
       " {'text': 'Secret Files Show How Trump Moscow Talks Unfolded While Trump Heaped Praise On Putin',\n",
       "  'age': '3 hours ago',\n",
       "  'timestamp': 'Tue Feb 5 14:40:16 2019 UTC',\n",
       "  'score': '238',\n",
       "  'num_comments': '117'},\n",
       " {'text': 'Gut Bacteria Linked to Depression Identified',\n",
       "  'age': '18 hours ago',\n",
       "  'timestamp': 'Mon Feb 4 23:49:01 2019 UTC',\n",
       "  'score': '3325',\n",
       "  'num_comments': '603'},\n",
       " {'text': 'Rights group says global democracy ‘in retreat’ for 13th year',\n",
       "  'age': '3 hours ago',\n",
       "  'timestamp': 'Tue Feb 5 14:09:28 2019 UTC',\n",
       "  'score': '220',\n",
       "  'num_comments': '40'},\n",
       " {'text': \"A defiant Mark Zuckerberg says people are focusing on the 'negative' aspects of Facebook's impact on the world\",\n",
       "  'age': '17 hours ago',\n",
       "  'timestamp': 'Tue Feb 5 00:42:05 2019 UTC',\n",
       "  'score': '2179',\n",
       "  'num_comments': '511'},\n",
       " {'text': \"Khashoggi's fiancee publishes book in memory of slain journalist\",\n",
       "  'age': '8 hours ago',\n",
       "  'timestamp': 'Tue Feb 5 09:43:18 2019 UTC',\n",
       "  'score': '268',\n",
       "  'num_comments': '27'},\n",
       " {'text': 'UK CO2 emissions fall again',\n",
       "  'age': '6 hours ago',\n",
       "  'timestamp': 'Tue Feb 5 12:04:41 2019 UTC',\n",
       "  'score': '150',\n",
       "  'num_comments': '29'},\n",
       " {'text': \"Japan's Deputy Prime Minister has caused consternation after appearing to blame the country's low birth-rate on women.\",\n",
       "  'age': '7 hours ago',\n",
       "  'timestamp': 'Tue Feb 5 10:51:30 2019 UTC',\n",
       "  'score': '178',\n",
       "  'num_comments': '105'},\n",
       " {'text': 'US prosecutors reportedly subpoena Trump golf courses in Scotland, which some Democrats worry might have been funded by Russian money',\n",
       "  'age': '1 day ago',\n",
       "  'timestamp': 'Mon Feb 4 14:28:44 2019 UTC',\n",
       "  'score': '31754',\n",
       "  'num_comments': '1851'},\n",
       " {'text': \"Karl Marx' Grave Attacked in London\",\n",
       "  'age': '6 hours ago',\n",
       "  'timestamp': 'Tue Feb 5 12:01:40 2019 UTC',\n",
       "  'score': '127',\n",
       "  'num_comments': '290'},\n",
       " {'text': 'Former ISIS sex slaves sheltered in Canada threatened with phone calls, texts',\n",
       "  'age': '2 hours ago',\n",
       "  'timestamp': 'Tue Feb 5 15:50:12 2019 UTC',\n",
       "  'score': '47',\n",
       "  'num_comments': '8'},\n",
       " {'text': 'Norway urges students to avoid UK universities in Brexit warning',\n",
       "  'age': '1 day ago',\n",
       "  'timestamp': 'Mon Feb 4 17:07:48 2019 UTC',\n",
       "  'score': '3118',\n",
       "  'num_comments': '477'},\n",
       " {'text': 'Melting glaciers reveal ancient landscapes, thawing mummies, and long-dead diseases',\n",
       "  'age': '2 hours ago',\n",
       "  'timestamp': 'Tue Feb 5 15:23:34 2019 UTC',\n",
       "  'score': '48',\n",
       "  'num_comments': '9'},\n",
       " {'text': 'A third of Himalayan glaciers can no longer be saved: study',\n",
       "  'age': '11 hours ago',\n",
       "  'timestamp': 'Tue Feb 5 06:55:36 2019 UTC',\n",
       "  'score': '205',\n",
       "  'num_comments': '29'},\n",
       " {'text': \"Instagram's most-liked egg revealed as mental health advert\",\n",
       "  'age': '3 hours ago',\n",
       "  'timestamp': 'Tue Feb 5 14:59:10 2019 UTC',\n",
       "  'score': '41',\n",
       "  'num_comments': '3'},\n",
       " {'text': '[Update] Woman who recently outed Oprah\\'s Brazilian faith healer \"John of God\" for murdering teenage sex slaves and running a \"baby farm\" adoption operation committed suicide yesterday.',\n",
       "  'age': '1 day ago',\n",
       "  'timestamp': 'Mon Feb 4 10:16:41 2019 UTC',\n",
       "  'score': '24354',\n",
       "  'num_comments': '2077'},\n",
       " {'text': 'Norway Intelligence Service Adds Huawei on National Security Threat List',\n",
       "  'age': '21 hours ago',\n",
       "  'timestamp': 'Mon Feb 4 21:05:52 2019 UTC',\n",
       "  'score': '919',\n",
       "  'num_comments': '143'},\n",
       " {'text': \"Thaw of Himalayas set to disrupt Asia's rivers, crops: study\",\n",
       "  'age': '7 hours ago',\n",
       "  'timestamp': 'Tue Feb 5 10:35:10 2019 UTC',\n",
       "  'score': '73',\n",
       "  'num_comments': '6'}]"
      ]
     },
     "execution_count": 56,
     "metadata": {},
     "output_type": "execute_result"
    }
   ],
   "source": [
    "submission_elements = retrieve_ranked_elements(browser=browser)\n",
    "test_list = []\n",
    "for element in submission_elements:\n",
    "    data = retrieve_submissions_data(element)\n",
    "    test_list.append(data)\n",
    "test_list"
   ]
  },
  {
   "cell_type": "markdown",
   "metadata": {},
   "source": [
    "# MUCH BETTER\n",
    "### Lets try to export to json!!"
   ]
  },
  {
   "cell_type": "code",
   "execution_count": 57,
   "metadata": {},
   "outputs": [
    {
     "ename": "TypeError",
     "evalue": "write() argument must be str, not dict",
     "output_type": "error",
     "traceback": [
      "\u001b[0;31m---------------------------------------------------------------------------\u001b[0m",
      "\u001b[0;31mTypeError\u001b[0m                                 Traceback (most recent call last)",
      "\u001b[0;32m<ipython-input-57-c960f2c8788d>\u001b[0m in \u001b[0;36m<module>\u001b[0;34m()\u001b[0m\n\u001b[1;32m      1\u001b[0m \u001b[0;32mwith\u001b[0m \u001b[0mopen\u001b[0m\u001b[0;34m(\u001b[0m\u001b[0;34m'test.json'\u001b[0m\u001b[0;34m,\u001b[0m \u001b[0;34m'w'\u001b[0m\u001b[0;34m)\u001b[0m \u001b[0;32mas\u001b[0m \u001b[0mf\u001b[0m\u001b[0;34m:\u001b[0m\u001b[0;34m\u001b[0m\u001b[0m\n\u001b[0;32m----> 2\u001b[0;31m     \u001b[0mf\u001b[0m\u001b[0;34m.\u001b[0m\u001b[0mwrite\u001b[0m\u001b[0;34m(\u001b[0m\u001b[0mtest_list\u001b[0m\u001b[0;34m[\u001b[0m\u001b[0;36m0\u001b[0m\u001b[0;34m]\u001b[0m\u001b[0;34m)\u001b[0m\u001b[0;34m\u001b[0m\u001b[0m\n\u001b[0m",
      "\u001b[0;31mTypeError\u001b[0m: write() argument must be str, not dict"
     ]
    }
   ],
   "source": [
    "with open('test.json', 'w') as f:\n",
    "    f.write(test_list[0])"
   ]
  },
  {
   "cell_type": "code",
   "execution_count": 58,
   "metadata": {},
   "outputs": [
    {
     "data": {
      "text/plain": [
       "\"{'text': 'Female genital mutilation (FGM) is increasingly being performed on babies and infants in the UK - In one report, in Yorkshire, a victim was just one month old.', 'age': '7 hours ago', 'timestamp': 'Tue Feb 5 11:01:00 2019 UTC', 'score': '9601', 'num_comments': '2938'}\""
      ]
     },
     "execution_count": 58,
     "metadata": {},
     "output_type": "execute_result"
    }
   ],
   "source": [
    "str(test_list[0])"
   ]
  },
  {
   "cell_type": "code",
   "execution_count": 63,
   "metadata": {},
   "outputs": [],
   "source": [
    "with open('test.json', 'w') as f:\n",
    "    f.write(str(test_list[0]))"
   ]
  },
  {
   "cell_type": "code",
   "execution_count": 64,
   "metadata": {},
   "outputs": [
    {
     "name": "stdout",
     "output_type": "stream",
     "text": [
      "{'text': 'Female genital mutilation (FGM) is increasingly being performed on babies and infants in the UK - In one report, in Yorkshire, a victim was just one month old.', 'age': '7 hours ago', 'timestamp': 'Tue Feb 5 11:01:00 2019 UTC', 'score': '9601', 'num_comments': '2938'}"
     ]
    }
   ],
   "source": [
    "!head test.json"
   ]
  },
  {
   "cell_type": "code",
   "execution_count": 72,
   "metadata": {},
   "outputs": [],
   "source": [
    "# pd.read_json('test.json', lines=True)    # Chucks  ValueError: Expected object or value  Lets try json \"\" vs ''"
   ]
  },
  {
   "cell_type": "code",
   "execution_count": 73,
   "metadata": {},
   "outputs": [],
   "source": [
    "import json"
   ]
  },
  {
   "cell_type": "code",
   "execution_count": 74,
   "metadata": {},
   "outputs": [],
   "source": [
    "with open('test.json', 'w') as f:\n",
    "    json.dump(test_list[0], f)"
   ]
  },
  {
   "cell_type": "code",
   "execution_count": 75,
   "metadata": {},
   "outputs": [
    {
     "name": "stdout",
     "output_type": "stream",
     "text": [
      "{\"text\": \"Female genital mutilation (FGM) is increasingly being performed on babies and infants in the UK - In one report, in Yorkshire, a victim was just one month old.\", \"age\": \"7 hours ago\", \"timestamp\": \"Tue Feb 5 11:01:00 2019 UTC\", \"score\": \"9601\", \"num_comments\": \"2938\"}"
     ]
    }
   ],
   "source": [
    "!head test.json"
   ]
  },
  {
   "cell_type": "code",
   "execution_count": 77,
   "metadata": {},
   "outputs": [
    {
     "data": {
      "text/html": [
       "<div>\n",
       "<style scoped>\n",
       "    .dataframe tbody tr th:only-of-type {\n",
       "        vertical-align: middle;\n",
       "    }\n",
       "\n",
       "    .dataframe tbody tr th {\n",
       "        vertical-align: top;\n",
       "    }\n",
       "\n",
       "    .dataframe thead th {\n",
       "        text-align: right;\n",
       "    }\n",
       "</style>\n",
       "<table border=\"1\" class=\"dataframe\">\n",
       "  <thead>\n",
       "    <tr style=\"text-align: right;\">\n",
       "      <th></th>\n",
       "      <th>age</th>\n",
       "      <th>num_comments</th>\n",
       "      <th>score</th>\n",
       "      <th>text</th>\n",
       "      <th>timestamp</th>\n",
       "    </tr>\n",
       "  </thead>\n",
       "  <tbody>\n",
       "    <tr>\n",
       "      <th>0</th>\n",
       "      <td>7 hours ago</td>\n",
       "      <td>2938</td>\n",
       "      <td>9601</td>\n",
       "      <td>Female genital mutilation (FGM) is increasingl...</td>\n",
       "      <td>2019-02-05 11:01:00</td>\n",
       "    </tr>\n",
       "  </tbody>\n",
       "</table>\n",
       "</div>"
      ],
      "text/plain": [
       "           age  num_comments  score  \\\n",
       "0  7 hours ago          2938   9601   \n",
       "\n",
       "                                                text           timestamp  \n",
       "0  Female genital mutilation (FGM) is increasingl... 2019-02-05 11:01:00  "
      ]
     },
     "execution_count": 77,
     "metadata": {},
     "output_type": "execute_result"
    }
   ],
   "source": [
    "pd.read_json('test.json', lines=True)"
   ]
  },
  {
   "cell_type": "code",
   "execution_count": 96,
   "metadata": {},
   "outputs": [],
   "source": [
    "def page_to_json(browser, fp):\n",
    "    \"\"\"Transfer submission data + metadata on a reddit(old.reddit) page to json.\n",
    "    Input args: selenium browser and filepath. Returns: None. \"\"\"\n",
    "    submission_elements = retrieve_ranked_elements(browser=browser)\n",
    "    for element in submission_elements:\n",
    "        data = retrieve_submissions_data(element)\n",
    "        json.dump(data, fp)\n",
    "        fp.write('\\n')"
   ]
  },
  {
   "cell_type": "code",
   "execution_count": 97,
   "metadata": {},
   "outputs": [],
   "source": [
    "with open('test.json', 'w') as f:\n",
    "    page_to_json(browser, f)"
   ]
  },
  {
   "cell_type": "code",
   "execution_count": 98,
   "metadata": {},
   "outputs": [
    {
     "name": "stdout",
     "output_type": "stream",
     "text": [
      "{\"text\": \"Female genital mutilation (FGM) is increasingly being performed on babies and infants in the UK - In one report, in Yorkshire, a victim was just one month old.\", \"age\": \"7 hours ago\", \"timestamp\": \"Tue Feb 5 11:01:00 2019 UTC\", \"score\": \"9601\", \"num_comments\": \"2938\"}\n",
      "{\"text\": \"Trump Says He Wants US Troops in Iraq to \\\"Watch Iran.\\\" Iraqis' Response: Get Out. \\\"Trump did not ask us to keep U.S. troops to watch Iran,\\\" says Iraqi president.\", \"age\": \"8 hours ago\", \"timestamp\": \"Tue Feb 5 09:53:18 2019 UTC\", \"score\": \"14324\", \"num_comments\": \"1166\"}\n",
      "{\"text\": \"Secret Files Show How Trump Moscow Talks Unfolded While Trump Heaped Praise On Putin\", \"age\": \"3 hours ago\", \"timestamp\": \"Tue Feb 5 14:32:18 2019 UTC\", \"score\": \"1259\", \"num_comments\": \"168\"}\n",
      "{\"text\": \"Father of American missionary who was killed while trying to convert isolated Indian Ocean tribe blames evangelicals' 'extreme Christianity' for the death of his 'innocent child\", \"age\": \"14 hours ago\", \"timestamp\": \"Tue Feb 5 03:44:02 2019 UTC\", \"score\": \"4730\", \"num_comments\": \"796\"}\n",
      "{\"text\": \"A Belgian environment minister is facing a storm of protest after falsely claiming the country\\u2019s intelligence services held evidence that children skipping school to demonstrate over climate change are being directed by unnamed powers.\", \"age\": \"6 hours ago\", \"timestamp\": \"Tue Feb 5 11:33:50 2019 UTC\", \"score\": \"784\", \"num_comments\": \"120\"}\n",
      "{\"text\": \"Saudi Female Activists Subject to Torture, Kept in Inhumane Conditions - British MPs Report\", \"age\": \"6 hours ago\", \"timestamp\": \"Tue Feb 5 11:45:13 2019 UTC\", \"score\": \"569\", \"num_comments\": \"45\"}\n",
      "{\"text\": \"Poachers driving African parrots extinct in spiralling \\u2018exotic\\u2019 pet trade, investigators say\", \"age\": \"5 hours ago\", \"timestamp\": \"Tue Feb 5 12:29:11 2019 UTC\", \"score\": \"417\", \"num_comments\": \"26\"}\n",
      "{\"text\": \"Arrests made after Al Jazeera investigation into French far right\", \"age\": \"8 hours ago\", \"timestamp\": \"Tue Feb 5 09:16:38 2019 UTC\", \"score\": \"710\", \"num_comments\": \"78\"}\n",
      "{\"text\": \"Secret Files Show How Trump Moscow Talks Unfolded While Trump Heaped Praise On Putin\", \"age\": \"3 hours ago\", \"timestamp\": \"Tue Feb 5 14:40:16 2019 UTC\", \"score\": \"238\", \"num_comments\": \"117\"}\n",
      "{\"text\": \"Gut Bacteria Linked to Depression Identified\", \"age\": \"18 hours ago\", \"timestamp\": \"Mon Feb 4 23:49:01 2019 UTC\", \"score\": \"3325\", \"num_comments\": \"603\"}\n"
     ]
    }
   ],
   "source": [
    "!head test.json"
   ]
  },
  {
   "cell_type": "code",
   "execution_count": 102,
   "metadata": {},
   "outputs": [
    {
     "data": {
      "text/html": [
       "<div>\n",
       "<style scoped>\n",
       "    .dataframe tbody tr th:only-of-type {\n",
       "        vertical-align: middle;\n",
       "    }\n",
       "\n",
       "    .dataframe tbody tr th {\n",
       "        vertical-align: top;\n",
       "    }\n",
       "\n",
       "    .dataframe thead th {\n",
       "        text-align: right;\n",
       "    }\n",
       "</style>\n",
       "<table border=\"1\" class=\"dataframe\">\n",
       "  <thead>\n",
       "    <tr style=\"text-align: right;\">\n",
       "      <th></th>\n",
       "      <th>age</th>\n",
       "      <th>num_comments</th>\n",
       "      <th>score</th>\n",
       "      <th>text</th>\n",
       "      <th>timestamp</th>\n",
       "    </tr>\n",
       "  </thead>\n",
       "  <tbody>\n",
       "    <tr>\n",
       "      <th>0</th>\n",
       "      <td>7 hours ago</td>\n",
       "      <td>2938</td>\n",
       "      <td>9601</td>\n",
       "      <td>Female genital mutilation (FGM) is increasingl...</td>\n",
       "      <td>2019-02-05 11:01:00</td>\n",
       "    </tr>\n",
       "    <tr>\n",
       "      <th>1</th>\n",
       "      <td>8 hours ago</td>\n",
       "      <td>1166</td>\n",
       "      <td>14324</td>\n",
       "      <td>Trump Says He Wants US Troops in Iraq to \"Watc...</td>\n",
       "      <td>2019-02-05 09:53:18</td>\n",
       "    </tr>\n",
       "    <tr>\n",
       "      <th>2</th>\n",
       "      <td>3 hours ago</td>\n",
       "      <td>168</td>\n",
       "      <td>1259</td>\n",
       "      <td>Secret Files Show How Trump Moscow Talks Unfol...</td>\n",
       "      <td>2019-02-05 14:32:18</td>\n",
       "    </tr>\n",
       "    <tr>\n",
       "      <th>3</th>\n",
       "      <td>14 hours ago</td>\n",
       "      <td>796</td>\n",
       "      <td>4730</td>\n",
       "      <td>Father of American missionary who was killed w...</td>\n",
       "      <td>2019-02-05 03:44:02</td>\n",
       "    </tr>\n",
       "    <tr>\n",
       "      <th>4</th>\n",
       "      <td>6 hours ago</td>\n",
       "      <td>120</td>\n",
       "      <td>784</td>\n",
       "      <td>A Belgian environment minister is facing a sto...</td>\n",
       "      <td>2019-02-05 11:33:50</td>\n",
       "    </tr>\n",
       "    <tr>\n",
       "      <th>5</th>\n",
       "      <td>6 hours ago</td>\n",
       "      <td>45</td>\n",
       "      <td>569</td>\n",
       "      <td>Saudi Female Activists Subject to Torture, Kep...</td>\n",
       "      <td>2019-02-05 11:45:13</td>\n",
       "    </tr>\n",
       "    <tr>\n",
       "      <th>6</th>\n",
       "      <td>5 hours ago</td>\n",
       "      <td>26</td>\n",
       "      <td>417</td>\n",
       "      <td>Poachers driving African parrots extinct in sp...</td>\n",
       "      <td>2019-02-05 12:29:11</td>\n",
       "    </tr>\n",
       "    <tr>\n",
       "      <th>7</th>\n",
       "      <td>8 hours ago</td>\n",
       "      <td>78</td>\n",
       "      <td>710</td>\n",
       "      <td>Arrests made after Al Jazeera investigation in...</td>\n",
       "      <td>2019-02-05 09:16:38</td>\n",
       "    </tr>\n",
       "    <tr>\n",
       "      <th>8</th>\n",
       "      <td>3 hours ago</td>\n",
       "      <td>117</td>\n",
       "      <td>238</td>\n",
       "      <td>Secret Files Show How Trump Moscow Talks Unfol...</td>\n",
       "      <td>2019-02-05 14:40:16</td>\n",
       "    </tr>\n",
       "    <tr>\n",
       "      <th>9</th>\n",
       "      <td>18 hours ago</td>\n",
       "      <td>603</td>\n",
       "      <td>3325</td>\n",
       "      <td>Gut Bacteria Linked to Depression Identified</td>\n",
       "      <td>2019-02-04 23:49:01</td>\n",
       "    </tr>\n",
       "    <tr>\n",
       "      <th>10</th>\n",
       "      <td>3 hours ago</td>\n",
       "      <td>40</td>\n",
       "      <td>220</td>\n",
       "      <td>Rights group says global democracy ‘in retreat...</td>\n",
       "      <td>2019-02-05 14:09:28</td>\n",
       "    </tr>\n",
       "    <tr>\n",
       "      <th>11</th>\n",
       "      <td>17 hours ago</td>\n",
       "      <td>511</td>\n",
       "      <td>2179</td>\n",
       "      <td>A defiant Mark Zuckerberg says people are focu...</td>\n",
       "      <td>2019-02-05 00:42:05</td>\n",
       "    </tr>\n",
       "    <tr>\n",
       "      <th>12</th>\n",
       "      <td>8 hours ago</td>\n",
       "      <td>27</td>\n",
       "      <td>268</td>\n",
       "      <td>Khashoggi's fiancee publishes book in memory o...</td>\n",
       "      <td>2019-02-05 09:43:18</td>\n",
       "    </tr>\n",
       "    <tr>\n",
       "      <th>13</th>\n",
       "      <td>6 hours ago</td>\n",
       "      <td>29</td>\n",
       "      <td>150</td>\n",
       "      <td>UK CO2 emissions fall again</td>\n",
       "      <td>2019-02-05 12:04:41</td>\n",
       "    </tr>\n",
       "    <tr>\n",
       "      <th>14</th>\n",
       "      <td>7 hours ago</td>\n",
       "      <td>105</td>\n",
       "      <td>178</td>\n",
       "      <td>Japan's Deputy Prime Minister has caused const...</td>\n",
       "      <td>2019-02-05 10:51:30</td>\n",
       "    </tr>\n",
       "    <tr>\n",
       "      <th>15</th>\n",
       "      <td>1 day ago</td>\n",
       "      <td>1851</td>\n",
       "      <td>31754</td>\n",
       "      <td>US prosecutors reportedly subpoena Trump golf ...</td>\n",
       "      <td>2019-02-04 14:28:44</td>\n",
       "    </tr>\n",
       "    <tr>\n",
       "      <th>16</th>\n",
       "      <td>6 hours ago</td>\n",
       "      <td>290</td>\n",
       "      <td>127</td>\n",
       "      <td>Karl Marx' Grave Attacked in London</td>\n",
       "      <td>2019-02-05 12:01:40</td>\n",
       "    </tr>\n",
       "    <tr>\n",
       "      <th>17</th>\n",
       "      <td>2 hours ago</td>\n",
       "      <td>8</td>\n",
       "      <td>47</td>\n",
       "      <td>Former ISIS sex slaves sheltered in Canada thr...</td>\n",
       "      <td>2019-02-05 15:50:12</td>\n",
       "    </tr>\n",
       "    <tr>\n",
       "      <th>18</th>\n",
       "      <td>1 day ago</td>\n",
       "      <td>477</td>\n",
       "      <td>3118</td>\n",
       "      <td>Norway urges students to avoid UK universities...</td>\n",
       "      <td>2019-02-04 17:07:48</td>\n",
       "    </tr>\n",
       "    <tr>\n",
       "      <th>19</th>\n",
       "      <td>2 hours ago</td>\n",
       "      <td>9</td>\n",
       "      <td>48</td>\n",
       "      <td>Melting glaciers reveal ancient landscapes, th...</td>\n",
       "      <td>2019-02-05 15:23:34</td>\n",
       "    </tr>\n",
       "    <tr>\n",
       "      <th>20</th>\n",
       "      <td>11 hours ago</td>\n",
       "      <td>29</td>\n",
       "      <td>205</td>\n",
       "      <td>A third of Himalayan glaciers can no longer be...</td>\n",
       "      <td>2019-02-05 06:55:36</td>\n",
       "    </tr>\n",
       "    <tr>\n",
       "      <th>21</th>\n",
       "      <td>3 hours ago</td>\n",
       "      <td>3</td>\n",
       "      <td>41</td>\n",
       "      <td>Instagram's most-liked egg revealed as mental ...</td>\n",
       "      <td>2019-02-05 14:59:10</td>\n",
       "    </tr>\n",
       "    <tr>\n",
       "      <th>22</th>\n",
       "      <td>1 day ago</td>\n",
       "      <td>2077</td>\n",
       "      <td>24354</td>\n",
       "      <td>[Update] Woman who recently outed Oprah's Braz...</td>\n",
       "      <td>2019-02-04 10:16:41</td>\n",
       "    </tr>\n",
       "    <tr>\n",
       "      <th>23</th>\n",
       "      <td>21 hours ago</td>\n",
       "      <td>143</td>\n",
       "      <td>919</td>\n",
       "      <td>Norway Intelligence Service Adds Huawei on Nat...</td>\n",
       "      <td>2019-02-04 21:05:52</td>\n",
       "    </tr>\n",
       "    <tr>\n",
       "      <th>24</th>\n",
       "      <td>7 hours ago</td>\n",
       "      <td>6</td>\n",
       "      <td>73</td>\n",
       "      <td>Thaw of Himalayas set to disrupt Asia's rivers...</td>\n",
       "      <td>2019-02-05 10:35:10</td>\n",
       "    </tr>\n",
       "  </tbody>\n",
       "</table>\n",
       "</div>"
      ],
      "text/plain": [
       "             age  num_comments  score  \\\n",
       "0    7 hours ago          2938   9601   \n",
       "1    8 hours ago          1166  14324   \n",
       "2    3 hours ago           168   1259   \n",
       "3   14 hours ago           796   4730   \n",
       "4    6 hours ago           120    784   \n",
       "5    6 hours ago            45    569   \n",
       "6    5 hours ago            26    417   \n",
       "7    8 hours ago            78    710   \n",
       "8    3 hours ago           117    238   \n",
       "9   18 hours ago           603   3325   \n",
       "10   3 hours ago            40    220   \n",
       "11  17 hours ago           511   2179   \n",
       "12   8 hours ago            27    268   \n",
       "13   6 hours ago            29    150   \n",
       "14   7 hours ago           105    178   \n",
       "15     1 day ago          1851  31754   \n",
       "16   6 hours ago           290    127   \n",
       "17   2 hours ago             8     47   \n",
       "18     1 day ago           477   3118   \n",
       "19   2 hours ago             9     48   \n",
       "20  11 hours ago            29    205   \n",
       "21   3 hours ago             3     41   \n",
       "22     1 day ago          2077  24354   \n",
       "23  21 hours ago           143    919   \n",
       "24   7 hours ago             6     73   \n",
       "\n",
       "                                                 text           timestamp  \n",
       "0   Female genital mutilation (FGM) is increasingl... 2019-02-05 11:01:00  \n",
       "1   Trump Says He Wants US Troops in Iraq to \"Watc... 2019-02-05 09:53:18  \n",
       "2   Secret Files Show How Trump Moscow Talks Unfol... 2019-02-05 14:32:18  \n",
       "3   Father of American missionary who was killed w... 2019-02-05 03:44:02  \n",
       "4   A Belgian environment minister is facing a sto... 2019-02-05 11:33:50  \n",
       "5   Saudi Female Activists Subject to Torture, Kep... 2019-02-05 11:45:13  \n",
       "6   Poachers driving African parrots extinct in sp... 2019-02-05 12:29:11  \n",
       "7   Arrests made after Al Jazeera investigation in... 2019-02-05 09:16:38  \n",
       "8   Secret Files Show How Trump Moscow Talks Unfol... 2019-02-05 14:40:16  \n",
       "9        Gut Bacteria Linked to Depression Identified 2019-02-04 23:49:01  \n",
       "10  Rights group says global democracy ‘in retreat... 2019-02-05 14:09:28  \n",
       "11  A defiant Mark Zuckerberg says people are focu... 2019-02-05 00:42:05  \n",
       "12  Khashoggi's fiancee publishes book in memory o... 2019-02-05 09:43:18  \n",
       "13                        UK CO2 emissions fall again 2019-02-05 12:04:41  \n",
       "14  Japan's Deputy Prime Minister has caused const... 2019-02-05 10:51:30  \n",
       "15  US prosecutors reportedly subpoena Trump golf ... 2019-02-04 14:28:44  \n",
       "16                Karl Marx' Grave Attacked in London 2019-02-05 12:01:40  \n",
       "17  Former ISIS sex slaves sheltered in Canada thr... 2019-02-05 15:50:12  \n",
       "18  Norway urges students to avoid UK universities... 2019-02-04 17:07:48  \n",
       "19  Melting glaciers reveal ancient landscapes, th... 2019-02-05 15:23:34  \n",
       "20  A third of Himalayan glaciers can no longer be... 2019-02-05 06:55:36  \n",
       "21  Instagram's most-liked egg revealed as mental ... 2019-02-05 14:59:10  \n",
       "22  [Update] Woman who recently outed Oprah's Braz... 2019-02-04 10:16:41  \n",
       "23  Norway Intelligence Service Adds Huawei on Nat... 2019-02-04 21:05:52  \n",
       "24  Thaw of Himalayas set to disrupt Asia's rivers... 2019-02-05 10:35:10  "
      ]
     },
     "execution_count": 102,
     "metadata": {},
     "output_type": "execute_result"
    }
   ],
   "source": [
    "pd.read_json('test.json', lines=True)"
   ]
  },
  {
   "cell_type": "code",
   "execution_count": 104,
   "metadata": {},
   "outputs": [
    {
     "data": {
      "text/html": [
       "<div>\n",
       "<style scoped>\n",
       "    .dataframe tbody tr th:only-of-type {\n",
       "        vertical-align: middle;\n",
       "    }\n",
       "\n",
       "    .dataframe tbody tr th {\n",
       "        vertical-align: top;\n",
       "    }\n",
       "\n",
       "    .dataframe thead th {\n",
       "        text-align: right;\n",
       "    }\n",
       "</style>\n",
       "<table border=\"1\" class=\"dataframe\">\n",
       "  <thead>\n",
       "    <tr style=\"text-align: right;\">\n",
       "      <th></th>\n",
       "      <th>age</th>\n",
       "      <th>num_comments</th>\n",
       "      <th>score</th>\n",
       "      <th>text</th>\n",
       "      <th>timestamp</th>\n",
       "    </tr>\n",
       "  </thead>\n",
       "  <tbody>\n",
       "    <tr>\n",
       "      <th>0</th>\n",
       "      <td>7 hours ago</td>\n",
       "      <td>2938</td>\n",
       "      <td>9601</td>\n",
       "      <td>Female genital mutilation (FGM) is increasingl...</td>\n",
       "      <td>2019-02-05 11:01:00</td>\n",
       "    </tr>\n",
       "    <tr>\n",
       "      <th>1</th>\n",
       "      <td>8 hours ago</td>\n",
       "      <td>1166</td>\n",
       "      <td>14324</td>\n",
       "      <td>Trump Says He Wants US Troops in Iraq to \"Watc...</td>\n",
       "      <td>2019-02-05 09:53:18</td>\n",
       "    </tr>\n",
       "    <tr>\n",
       "      <th>2</th>\n",
       "      <td>3 hours ago</td>\n",
       "      <td>168</td>\n",
       "      <td>1259</td>\n",
       "      <td>Secret Files Show How Trump Moscow Talks Unfol...</td>\n",
       "      <td>2019-02-05 14:32:18</td>\n",
       "    </tr>\n",
       "    <tr>\n",
       "      <th>3</th>\n",
       "      <td>14 hours ago</td>\n",
       "      <td>796</td>\n",
       "      <td>4730</td>\n",
       "      <td>Father of American missionary who was killed w...</td>\n",
       "      <td>2019-02-05 03:44:02</td>\n",
       "    </tr>\n",
       "    <tr>\n",
       "      <th>4</th>\n",
       "      <td>6 hours ago</td>\n",
       "      <td>120</td>\n",
       "      <td>784</td>\n",
       "      <td>A Belgian environment minister is facing a sto...</td>\n",
       "      <td>2019-02-05 11:33:50</td>\n",
       "    </tr>\n",
       "  </tbody>\n",
       "</table>\n",
       "</div>"
      ],
      "text/plain": [
       "            age  num_comments  score  \\\n",
       "0   7 hours ago          2938   9601   \n",
       "1   8 hours ago          1166  14324   \n",
       "2   3 hours ago           168   1259   \n",
       "3  14 hours ago           796   4730   \n",
       "4   6 hours ago           120    784   \n",
       "\n",
       "                                                text           timestamp  \n",
       "0  Female genital mutilation (FGM) is increasingl... 2019-02-05 11:01:00  \n",
       "1  Trump Says He Wants US Troops in Iraq to \"Watc... 2019-02-05 09:53:18  \n",
       "2  Secret Files Show How Trump Moscow Talks Unfol... 2019-02-05 14:32:18  \n",
       "3  Father of American missionary who was killed w... 2019-02-05 03:44:02  \n",
       "4  A Belgian environment minister is facing a sto... 2019-02-05 11:33:50  "
      ]
     },
     "execution_count": 104,
     "metadata": {},
     "output_type": "execute_result"
    }
   ],
   "source": [
    "# Hm lets explore that timestamp value\n",
    "df = pd.read_json('test.json', lines=True)\n",
    "df.head()"
   ]
  },
  {
   "cell_type": "code",
   "execution_count": 105,
   "metadata": {},
   "outputs": [
    {
     "data": {
      "text/plain": [
       "age                     object\n",
       "num_comments             int64\n",
       "score                    int64\n",
       "text                    object\n",
       "timestamp       datetime64[ns]\n",
       "dtype: object"
      ]
     },
     "execution_count": 105,
     "metadata": {},
     "output_type": "execute_result"
    }
   ],
   "source": [
    "df.dtypes"
   ]
  },
  {
   "cell_type": "code",
   "execution_count": 106,
   "metadata": {},
   "outputs": [],
   "source": [
    "#COOOL"
   ]
  },
  {
   "cell_type": "code",
   "execution_count": null,
   "metadata": {},
   "outputs": [],
   "source": []
  }
 ],
 "metadata": {
  "kernelspec": {
   "display_name": "learn-env",
   "language": "python",
   "name": "learn-env"
  },
  "language_info": {
   "codemirror_mode": {
    "name": "ipython",
    "version": 3
   },
   "file_extension": ".py",
   "mimetype": "text/x-python",
   "name": "python",
   "nbconvert_exporter": "python",
   "pygments_lexer": "ipython3",
   "version": "3.6.6"
  }
 },
 "nbformat": 4,
 "nbformat_minor": 2
}
