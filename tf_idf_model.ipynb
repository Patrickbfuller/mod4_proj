{
 "cells": [
  {
   "cell_type": "code",
   "execution_count": 1,
   "metadata": {},
   "outputs": [],
   "source": [
    "import pandas as pd\n",
    "import numpy as np"
   ]
  },
  {
   "cell_type": "code",
   "execution_count": 2,
   "metadata": {},
   "outputs": [],
   "source": [
    "dfp = pd.read_json('reddit_pat.json', lines=True)\n",
    "dfk = pd.read_json('reddit_kv.json', lines=True)"
   ]
  },
  {
   "cell_type": "code",
   "execution_count": 3,
   "metadata": {},
   "outputs": [
    {
     "name": "stdout",
     "output_type": "stream",
     "text": [
      "(2450, 5)\n"
     ]
    },
    {
     "data": {
      "text/html": [
       "<div>\n",
       "<style scoped>\n",
       "    .dataframe tbody tr th:only-of-type {\n",
       "        vertical-align: middle;\n",
       "    }\n",
       "\n",
       "    .dataframe tbody tr th {\n",
       "        vertical-align: top;\n",
       "    }\n",
       "\n",
       "    .dataframe thead th {\n",
       "        text-align: right;\n",
       "    }\n",
       "</style>\n",
       "<table border=\"1\" class=\"dataframe\">\n",
       "  <thead>\n",
       "    <tr style=\"text-align: right;\">\n",
       "      <th></th>\n",
       "      <th>age</th>\n",
       "      <th>num_comments</th>\n",
       "      <th>score</th>\n",
       "      <th>text</th>\n",
       "      <th>timestamp</th>\n",
       "    </tr>\n",
       "  </thead>\n",
       "  <tbody>\n",
       "    <tr>\n",
       "      <th>0</th>\n",
       "      <td>6 hours ago</td>\n",
       "      <td>1067</td>\n",
       "      <td>16886</td>\n",
       "      <td>Pakistan will release Indian Pilot Abhinandan ...</td>\n",
       "      <td>2019-02-28 11:16:12</td>\n",
       "    </tr>\n",
       "    <tr>\n",
       "      <th>1</th>\n",
       "      <td>10 hours ago</td>\n",
       "      <td>5338</td>\n",
       "      <td>43583</td>\n",
       "      <td>Trump-Kim talks end 'without agreement'</td>\n",
       "      <td>2019-02-28 07:01:12</td>\n",
       "    </tr>\n",
       "    <tr>\n",
       "      <th>2</th>\n",
       "      <td>7 hours ago</td>\n",
       "      <td>1099</td>\n",
       "      <td>4036</td>\n",
       "      <td>UN Council: Israel Intentionally Shot Children...</td>\n",
       "      <td>2019-02-28 10:47:58</td>\n",
       "    </tr>\n",
       "    <tr>\n",
       "      <th>3</th>\n",
       "      <td>1 hour ago</td>\n",
       "      <td>89</td>\n",
       "      <td>592</td>\n",
       "      <td>Israel's Attorney General Avichai Mendelblit a...</td>\n",
       "      <td>2019-02-28 16:05:00</td>\n",
       "    </tr>\n",
       "    <tr>\n",
       "      <th>4</th>\n",
       "      <td>2 hours ago</td>\n",
       "      <td>175</td>\n",
       "      <td>663</td>\n",
       "      <td>Cohen connects the dots on what Trump knew abo...</td>\n",
       "      <td>2019-02-28 15:08:29</td>\n",
       "    </tr>\n",
       "  </tbody>\n",
       "</table>\n",
       "</div>"
      ],
      "text/plain": [
       "            age  num_comments  score  \\\n",
       "0   6 hours ago          1067  16886   \n",
       "1  10 hours ago          5338  43583   \n",
       "2   7 hours ago          1099   4036   \n",
       "3    1 hour ago            89    592   \n",
       "4   2 hours ago           175    663   \n",
       "\n",
       "                                                text           timestamp  \n",
       "0  Pakistan will release Indian Pilot Abhinandan ... 2019-02-28 11:16:12  \n",
       "1            Trump-Kim talks end 'without agreement' 2019-02-28 07:01:12  \n",
       "2  UN Council: Israel Intentionally Shot Children... 2019-02-28 10:47:58  \n",
       "3  Israel's Attorney General Avichai Mendelblit a... 2019-02-28 16:05:00  \n",
       "4  Cohen connects the dots on what Trump knew abo... 2019-02-28 15:08:29  "
      ]
     },
     "metadata": {},
     "output_type": "display_data"
    },
    {
     "name": "stdout",
     "output_type": "stream",
     "text": [
      "(2650, 5)\n"
     ]
    },
    {
     "data": {
      "text/html": [
       "<div>\n",
       "<style scoped>\n",
       "    .dataframe tbody tr th:only-of-type {\n",
       "        vertical-align: middle;\n",
       "    }\n",
       "\n",
       "    .dataframe tbody tr th {\n",
       "        vertical-align: top;\n",
       "    }\n",
       "\n",
       "    .dataframe thead th {\n",
       "        text-align: right;\n",
       "    }\n",
       "</style>\n",
       "<table border=\"1\" class=\"dataframe\">\n",
       "  <thead>\n",
       "    <tr style=\"text-align: right;\">\n",
       "      <th></th>\n",
       "      <th>age</th>\n",
       "      <th>num_comments</th>\n",
       "      <th>score</th>\n",
       "      <th>text</th>\n",
       "      <th>timestamp</th>\n",
       "    </tr>\n",
       "  </thead>\n",
       "  <tbody>\n",
       "    <tr>\n",
       "      <th>0</th>\n",
       "      <td>5 hours ago</td>\n",
       "      <td>1588</td>\n",
       "      <td>21720</td>\n",
       "      <td>China Killing Prisoners To Harvest Organs For ...</td>\n",
       "      <td>2019-06-19 11:49:08</td>\n",
       "    </tr>\n",
       "    <tr>\n",
       "      <th>1</th>\n",
       "      <td>4 hours ago</td>\n",
       "      <td>402</td>\n",
       "      <td>2661</td>\n",
       "      <td>Muslim family dragged out of Belgian embassy i...</td>\n",
       "      <td>2019-06-19 12:05:31</td>\n",
       "    </tr>\n",
       "    <tr>\n",
       "      <th>2</th>\n",
       "      <td>11 hours ago</td>\n",
       "      <td>3320</td>\n",
       "      <td>46977</td>\n",
       "      <td>Women outperform men after Japan medical schoo...</td>\n",
       "      <td>2019-06-19 05:51:44</td>\n",
       "    </tr>\n",
       "    <tr>\n",
       "      <th>3</th>\n",
       "      <td>6 hours ago</td>\n",
       "      <td>202</td>\n",
       "      <td>1474</td>\n",
       "      <td>MH17 crash: Investigators 'to charge four with...</td>\n",
       "      <td>2019-06-19 10:50:51</td>\n",
       "    </tr>\n",
       "    <tr>\n",
       "      <th>4</th>\n",
       "      <td>11 hours ago</td>\n",
       "      <td>1336</td>\n",
       "      <td>2665</td>\n",
       "      <td>Iranian official calls on world to unite again...</td>\n",
       "      <td>2019-06-19 05:09:15</td>\n",
       "    </tr>\n",
       "  </tbody>\n",
       "</table>\n",
       "</div>"
      ],
      "text/plain": [
       "            age  num_comments  score  \\\n",
       "0   5 hours ago          1588  21720   \n",
       "1   4 hours ago           402   2661   \n",
       "2  11 hours ago          3320  46977   \n",
       "3   6 hours ago           202   1474   \n",
       "4  11 hours ago          1336   2665   \n",
       "\n",
       "                                                text           timestamp  \n",
       "0  China Killing Prisoners To Harvest Organs For ... 2019-06-19 11:49:08  \n",
       "1  Muslim family dragged out of Belgian embassy i... 2019-06-19 12:05:31  \n",
       "2  Women outperform men after Japan medical schoo... 2019-06-19 05:51:44  \n",
       "3  MH17 crash: Investigators 'to charge four with... 2019-06-19 10:50:51  \n",
       "4  Iranian official calls on world to unite again... 2019-06-19 05:09:15  "
      ]
     },
     "metadata": {},
     "output_type": "display_data"
    }
   ],
   "source": [
    "print(dfp.shape)\n",
    "display(dfp.head())\n",
    "print(dfk.shape)\n",
    "display(dfk.head())"
   ]
  },
  {
   "cell_type": "code",
   "execution_count": 4,
   "metadata": {},
   "outputs": [
    {
     "data": {
      "text/plain": [
       "(5100, 5)"
      ]
     },
     "execution_count": 4,
     "metadata": {},
     "output_type": "execute_result"
    }
   ],
   "source": [
    "reddit_combined = pd.concat([dfk,dfp], ignore_index=True)\n",
    "reddit_combined.shape"
   ]
  },
  {
   "cell_type": "code",
   "execution_count": 5,
   "metadata": {},
   "outputs": [
    {
     "data": {
      "text/html": [
       "<div>\n",
       "<style scoped>\n",
       "    .dataframe tbody tr th:only-of-type {\n",
       "        vertical-align: middle;\n",
       "    }\n",
       "\n",
       "    .dataframe tbody tr th {\n",
       "        vertical-align: top;\n",
       "    }\n",
       "\n",
       "    .dataframe thead th {\n",
       "        text-align: right;\n",
       "    }\n",
       "</style>\n",
       "<table border=\"1\" class=\"dataframe\">\n",
       "  <thead>\n",
       "    <tr style=\"text-align: right;\">\n",
       "      <th></th>\n",
       "      <th>age</th>\n",
       "      <th>num_comments</th>\n",
       "      <th>score</th>\n",
       "      <th>text</th>\n",
       "      <th>timestamp</th>\n",
       "    </tr>\n",
       "  </thead>\n",
       "  <tbody>\n",
       "    <tr>\n",
       "      <th>5095</th>\n",
       "      <td>1 hour ago</td>\n",
       "      <td>20</td>\n",
       "      <td>117</td>\n",
       "      <td>‘Kremlin Used’ NRA to Help Trump in 2016, Says...</td>\n",
       "      <td>2018-05-16 16:55:22</td>\n",
       "    </tr>\n",
       "    <tr>\n",
       "      <th>5096</th>\n",
       "      <td>23 hours ago</td>\n",
       "      <td>4356</td>\n",
       "      <td>31969</td>\n",
       "      <td>N. Korea cancels Wednesday's high-level talks ...</td>\n",
       "      <td>2018-05-15 18:31:54</td>\n",
       "    </tr>\n",
       "    <tr>\n",
       "      <th>5097</th>\n",
       "      <td>9 hours ago</td>\n",
       "      <td>62</td>\n",
       "      <td>464</td>\n",
       "      <td>Erdoğan ends UK state visit by calling jailed ...</td>\n",
       "      <td>2018-05-16 09:13:12</td>\n",
       "    </tr>\n",
       "    <tr>\n",
       "      <th>5098</th>\n",
       "      <td>16 hours ago</td>\n",
       "      <td>126</td>\n",
       "      <td>2007</td>\n",
       "      <td>Oil companies have played a major role in clim...</td>\n",
       "      <td>2018-05-16 01:17:21</td>\n",
       "    </tr>\n",
       "    <tr>\n",
       "      <th>5099</th>\n",
       "      <td>13 hours ago</td>\n",
       "      <td>492</td>\n",
       "      <td>1060</td>\n",
       "      <td>Nikki Haley denies Gaza violence is related to...</td>\n",
       "      <td>2018-05-16 04:31:37</td>\n",
       "    </tr>\n",
       "  </tbody>\n",
       "</table>\n",
       "</div>"
      ],
      "text/plain": [
       "               age  num_comments  score  \\\n",
       "5095    1 hour ago            20    117   \n",
       "5096  23 hours ago          4356  31969   \n",
       "5097   9 hours ago            62    464   \n",
       "5098  16 hours ago           126   2007   \n",
       "5099  13 hours ago           492   1060   \n",
       "\n",
       "                                                   text           timestamp  \n",
       "5095  ‘Kremlin Used’ NRA to Help Trump in 2016, Says... 2018-05-16 16:55:22  \n",
       "5096  N. Korea cancels Wednesday's high-level talks ... 2018-05-15 18:31:54  \n",
       "5097  Erdoğan ends UK state visit by calling jailed ... 2018-05-16 09:13:12  \n",
       "5098  Oil companies have played a major role in clim... 2018-05-16 01:17:21  \n",
       "5099  Nikki Haley denies Gaza violence is related to... 2018-05-16 04:31:37  "
      ]
     },
     "execution_count": 5,
     "metadata": {},
     "output_type": "execute_result"
    }
   ],
   "source": [
    "reddit_combined.tail()"
   ]
  },
  {
   "cell_type": "markdown",
   "metadata": {},
   "source": [
    "Indexes are properly assigned"
   ]
  },
  {
   "cell_type": "code",
   "execution_count": 6,
   "metadata": {},
   "outputs": [
    {
     "data": {
      "text/plain": [
       "(4843, 5)"
      ]
     },
     "execution_count": 6,
     "metadata": {},
     "output_type": "execute_result"
    }
   ],
   "source": [
    "reddit_combined.drop_duplicates(subset='text', keep='first').shape     # Keeps the first(lowest index)\n",
    "                                                                    # Which is the later(time) archive"
   ]
  },
  {
   "cell_type": "code",
   "execution_count": 7,
   "metadata": {},
   "outputs": [],
   "source": [
    "reddit_trimmed=reddit_combined.drop_duplicates(subset='text',keep='first')"
   ]
  },
  {
   "cell_type": "code",
   "execution_count": 8,
   "metadata": {},
   "outputs": [],
   "source": [
    "reddit_trimmed.to_json('reddit_combined.json')"
   ]
  },
  {
   "cell_type": "code",
   "execution_count": 91,
   "metadata": {},
   "outputs": [
    {
     "data": {
      "text/html": [
       "<div>\n",
       "<style scoped>\n",
       "    .dataframe tbody tr th:only-of-type {\n",
       "        vertical-align: middle;\n",
       "    }\n",
       "\n",
       "    .dataframe tbody tr th {\n",
       "        vertical-align: top;\n",
       "    }\n",
       "\n",
       "    .dataframe thead th {\n",
       "        text-align: right;\n",
       "    }\n",
       "</style>\n",
       "<table border=\"1\" class=\"dataframe\">\n",
       "  <thead>\n",
       "    <tr style=\"text-align: right;\">\n",
       "      <th></th>\n",
       "      <th>age</th>\n",
       "      <th>num_comments</th>\n",
       "      <th>score</th>\n",
       "      <th>text</th>\n",
       "      <th>timestamp</th>\n",
       "    </tr>\n",
       "  </thead>\n",
       "  <tbody>\n",
       "    <tr>\n",
       "      <th>0</th>\n",
       "      <td>5 hours ago</td>\n",
       "      <td>1588</td>\n",
       "      <td>21720</td>\n",
       "      <td>China Killing Prisoners To Harvest Organs For ...</td>\n",
       "      <td>2019-06-19 11:49:08</td>\n",
       "    </tr>\n",
       "    <tr>\n",
       "      <th>1</th>\n",
       "      <td>4 hours ago</td>\n",
       "      <td>402</td>\n",
       "      <td>2661</td>\n",
       "      <td>Muslim family dragged out of Belgian embassy i...</td>\n",
       "      <td>2019-06-19 12:05:31</td>\n",
       "    </tr>\n",
       "    <tr>\n",
       "      <th>2</th>\n",
       "      <td>11 hours ago</td>\n",
       "      <td>3320</td>\n",
       "      <td>46977</td>\n",
       "      <td>Women outperform men after Japan medical schoo...</td>\n",
       "      <td>2019-06-19 05:51:44</td>\n",
       "    </tr>\n",
       "    <tr>\n",
       "      <th>3</th>\n",
       "      <td>6 hours ago</td>\n",
       "      <td>202</td>\n",
       "      <td>1474</td>\n",
       "      <td>MH17 crash: Investigators 'to charge four with...</td>\n",
       "      <td>2019-06-19 10:50:51</td>\n",
       "    </tr>\n",
       "    <tr>\n",
       "      <th>4</th>\n",
       "      <td>11 hours ago</td>\n",
       "      <td>1336</td>\n",
       "      <td>2665</td>\n",
       "      <td>Iranian official calls on world to unite again...</td>\n",
       "      <td>2019-06-19 05:09:15</td>\n",
       "    </tr>\n",
       "  </tbody>\n",
       "</table>\n",
       "</div>"
      ],
      "text/plain": [
       "            age  num_comments  score  \\\n",
       "0   5 hours ago          1588  21720   \n",
       "1   4 hours ago           402   2661   \n",
       "2  11 hours ago          3320  46977   \n",
       "3   6 hours ago           202   1474   \n",
       "4  11 hours ago          1336   2665   \n",
       "\n",
       "                                                text           timestamp  \n",
       "0  China Killing Prisoners To Harvest Organs For ... 2019-06-19 11:49:08  \n",
       "1  Muslim family dragged out of Belgian embassy i... 2019-06-19 12:05:31  \n",
       "2  Women outperform men after Japan medical schoo... 2019-06-19 05:51:44  \n",
       "3  MH17 crash: Investigators 'to charge four with... 2019-06-19 10:50:51  \n",
       "4  Iranian official calls on world to unite again... 2019-06-19 05:09:15  "
      ]
     },
     "execution_count": 91,
     "metadata": {},
     "output_type": "execute_result"
    }
   ],
   "source": [
    "df = pd.read_json('reddit_combined.json').sort_index()\n",
    "df.head()"
   ]
  },
  {
   "cell_type": "code",
   "execution_count": 92,
   "metadata": {},
   "outputs": [
    {
     "data": {
      "text/html": [
       "<div>\n",
       "<style scoped>\n",
       "    .dataframe tbody tr th:only-of-type {\n",
       "        vertical-align: middle;\n",
       "    }\n",
       "\n",
       "    .dataframe tbody tr th {\n",
       "        vertical-align: top;\n",
       "    }\n",
       "\n",
       "    .dataframe thead th {\n",
       "        text-align: right;\n",
       "    }\n",
       "</style>\n",
       "<table border=\"1\" class=\"dataframe\">\n",
       "  <thead>\n",
       "    <tr style=\"text-align: right;\">\n",
       "      <th></th>\n",
       "      <th>num_comments</th>\n",
       "      <th>score</th>\n",
       "    </tr>\n",
       "  </thead>\n",
       "  <tbody>\n",
       "    <tr>\n",
       "      <th>count</th>\n",
       "      <td>4843.000000</td>\n",
       "      <td>4843.000000</td>\n",
       "    </tr>\n",
       "    <tr>\n",
       "      <th>mean</th>\n",
       "      <td>694.733636</td>\n",
       "      <td>8496.281644</td>\n",
       "    </tr>\n",
       "    <tr>\n",
       "      <th>std</th>\n",
       "      <td>1409.812347</td>\n",
       "      <td>16760.184113</td>\n",
       "    </tr>\n",
       "    <tr>\n",
       "      <th>min</th>\n",
       "      <td>0.000000</td>\n",
       "      <td>17.000000</td>\n",
       "    </tr>\n",
       "    <tr>\n",
       "      <th>25%</th>\n",
       "      <td>44.000000</td>\n",
       "      <td>241.000000</td>\n",
       "    </tr>\n",
       "    <tr>\n",
       "      <th>50%</th>\n",
       "      <td>165.000000</td>\n",
       "      <td>1098.000000</td>\n",
       "    </tr>\n",
       "    <tr>\n",
       "      <th>75%</th>\n",
       "      <td>667.500000</td>\n",
       "      <td>5786.000000</td>\n",
       "    </tr>\n",
       "    <tr>\n",
       "      <th>max</th>\n",
       "      <td>27532.000000</td>\n",
       "      <td>142436.000000</td>\n",
       "    </tr>\n",
       "  </tbody>\n",
       "</table>\n",
       "</div>"
      ],
      "text/plain": [
       "       num_comments          score\n",
       "count   4843.000000    4843.000000\n",
       "mean     694.733636    8496.281644\n",
       "std     1409.812347   16760.184113\n",
       "min        0.000000      17.000000\n",
       "25%       44.000000     241.000000\n",
       "50%      165.000000    1098.000000\n",
       "75%      667.500000    5786.000000\n",
       "max    27532.000000  142436.000000"
      ]
     },
     "execution_count": 92,
     "metadata": {},
     "output_type": "execute_result"
    }
   ],
   "source": [
    "df.describe()"
   ]
  },
  {
   "cell_type": "code",
   "execution_count": 93,
   "metadata": {},
   "outputs": [
    {
     "data": {
      "text/plain": [
       "age             0\n",
       "num_comments    0\n",
       "score           0\n",
       "text            0\n",
       "timestamp       0\n",
       "dtype: int64"
      ]
     },
     "execution_count": 93,
     "metadata": {},
     "output_type": "execute_result"
    }
   ],
   "source": [
    "df.isna().sum()"
   ]
  },
  {
   "cell_type": "code",
   "execution_count": 94,
   "metadata": {},
   "outputs": [
    {
     "data": {
      "text/plain": [
       "array(['5 hours ago', '4 hours ago', '11 hours ago', '6 hours ago',\n",
       "       '2 hours ago', '21 hours ago', '3 hours ago', '16 hours ago',\n",
       "       '1 day ago', '10 hours ago', '23 hours ago', '13 hours ago',\n",
       "       '1 hour ago', '14 hours ago', '18 hours ago', '15 hours ago',\n",
       "       '9 hours ago', '20 hours ago', '17 hours ago', '19 hours ago',\n",
       "       '12 hours ago', '7 hours ago', '22 hours ago', '8 hours ago',\n",
       "       '50 minutes ago', '41 minutes ago', '43 minutes ago',\n",
       "       '45 minutes ago', '47 minutes ago', '22 minutes ago',\n",
       "       '56 minutes ago', '59 minutes ago', '18 minutes ago',\n",
       "       '35 minutes ago', '34 minutes ago', '55 minutes ago',\n",
       "       '29 minutes ago', '33 minutes ago', '54 minutes ago',\n",
       "       '39 minutes ago', '28 minutes ago', '40 minutes ago',\n",
       "       '31 minutes ago', '46 minutes ago'], dtype=object)"
      ]
     },
     "execution_count": 94,
     "metadata": {},
     "output_type": "execute_result"
    }
   ],
   "source": [
    "df.age.unique()"
   ]
  },
  {
   "cell_type": "code",
   "execution_count": 95,
   "metadata": {},
   "outputs": [],
   "source": [
    "def clean_age(text):\n",
    "    \"\"\"Compute age in minutes\"\"\"\n",
    "    if 'day' in text:\n",
    "        return 1440\n",
    "    if 'hour' in text:\n",
    "        return int(text[:2]) * 60\n",
    "    else:\n",
    "        return int(text[:2])"
   ]
  },
  {
   "cell_type": "code",
   "execution_count": 96,
   "metadata": {},
   "outputs": [],
   "source": [
    "df.loc[:,'weekday_posted'] = df['timestamp'].map(lambda x: x.weekday())\n",
    "df.loc[:,'hour_posted'] = df['timestamp'].map(lambda x: x.hour)\n",
    "df['age'] = df['age'].map(clean_age)"
   ]
  },
  {
   "cell_type": "code",
   "execution_count": 97,
   "metadata": {},
   "outputs": [],
   "source": [
    "df.loc[:,'log_score'] = np.log(df['score'])\n",
    "df.loc[:,'log_comments'] = np.log(df['num_comments'] + 0.01)"
   ]
  },
  {
   "cell_type": "code",
   "execution_count": 98,
   "metadata": {},
   "outputs": [
    {
     "data": {
      "text/html": [
       "<div>\n",
       "<style scoped>\n",
       "    .dataframe tbody tr th:only-of-type {\n",
       "        vertical-align: middle;\n",
       "    }\n",
       "\n",
       "    .dataframe tbody tr th {\n",
       "        vertical-align: top;\n",
       "    }\n",
       "\n",
       "    .dataframe thead th {\n",
       "        text-align: right;\n",
       "    }\n",
       "</style>\n",
       "<table border=\"1\" class=\"dataframe\">\n",
       "  <thead>\n",
       "    <tr style=\"text-align: right;\">\n",
       "      <th></th>\n",
       "      <th>age</th>\n",
       "      <th>num_comments</th>\n",
       "      <th>score</th>\n",
       "      <th>text</th>\n",
       "      <th>timestamp</th>\n",
       "      <th>weekday_posted</th>\n",
       "      <th>hour_posted</th>\n",
       "      <th>log_score</th>\n",
       "      <th>log_comments</th>\n",
       "    </tr>\n",
       "  </thead>\n",
       "  <tbody>\n",
       "    <tr>\n",
       "      <th>0</th>\n",
       "      <td>300</td>\n",
       "      <td>1588</td>\n",
       "      <td>21720</td>\n",
       "      <td>China Killing Prisoners To Harvest Organs For ...</td>\n",
       "      <td>2019-06-19 11:49:08</td>\n",
       "      <td>2</td>\n",
       "      <td>11</td>\n",
       "      <td>9.985989</td>\n",
       "      <td>7.370237</td>\n",
       "    </tr>\n",
       "    <tr>\n",
       "      <th>1</th>\n",
       "      <td>240</td>\n",
       "      <td>402</td>\n",
       "      <td>2661</td>\n",
       "      <td>Muslim family dragged out of Belgian embassy i...</td>\n",
       "      <td>2019-06-19 12:05:31</td>\n",
       "      <td>2</td>\n",
       "      <td>12</td>\n",
       "      <td>7.886457</td>\n",
       "      <td>5.996477</td>\n",
       "    </tr>\n",
       "    <tr>\n",
       "      <th>2</th>\n",
       "      <td>660</td>\n",
       "      <td>3320</td>\n",
       "      <td>46977</td>\n",
       "      <td>Women outperform men after Japan medical schoo...</td>\n",
       "      <td>2019-06-19 05:51:44</td>\n",
       "      <td>2</td>\n",
       "      <td>5</td>\n",
       "      <td>10.757413</td>\n",
       "      <td>8.107723</td>\n",
       "    </tr>\n",
       "    <tr>\n",
       "      <th>3</th>\n",
       "      <td>360</td>\n",
       "      <td>202</td>\n",
       "      <td>1474</td>\n",
       "      <td>MH17 crash: Investigators 'to charge four with...</td>\n",
       "      <td>2019-06-19 10:50:51</td>\n",
       "      <td>2</td>\n",
       "      <td>10</td>\n",
       "      <td>7.295735</td>\n",
       "      <td>5.308317</td>\n",
       "    </tr>\n",
       "    <tr>\n",
       "      <th>4</th>\n",
       "      <td>660</td>\n",
       "      <td>1336</td>\n",
       "      <td>2665</td>\n",
       "      <td>Iranian official calls on world to unite again...</td>\n",
       "      <td>2019-06-19 05:09:15</td>\n",
       "      <td>2</td>\n",
       "      <td>5</td>\n",
       "      <td>7.887959</td>\n",
       "      <td>7.197443</td>\n",
       "    </tr>\n",
       "  </tbody>\n",
       "</table>\n",
       "</div>"
      ],
      "text/plain": [
       "   age  num_comments  score  \\\n",
       "0  300          1588  21720   \n",
       "1  240           402   2661   \n",
       "2  660          3320  46977   \n",
       "3  360           202   1474   \n",
       "4  660          1336   2665   \n",
       "\n",
       "                                                text           timestamp  \\\n",
       "0  China Killing Prisoners To Harvest Organs For ... 2019-06-19 11:49:08   \n",
       "1  Muslim family dragged out of Belgian embassy i... 2019-06-19 12:05:31   \n",
       "2  Women outperform men after Japan medical schoo... 2019-06-19 05:51:44   \n",
       "3  MH17 crash: Investigators 'to charge four with... 2019-06-19 10:50:51   \n",
       "4  Iranian official calls on world to unite again... 2019-06-19 05:09:15   \n",
       "\n",
       "   weekday_posted  hour_posted  log_score  log_comments  \n",
       "0               2           11   9.985989      7.370237  \n",
       "1               2           12   7.886457      5.996477  \n",
       "2               2            5  10.757413      8.107723  \n",
       "3               2           10   7.295735      5.308317  \n",
       "4               2            5   7.887959      7.197443  "
      ]
     },
     "execution_count": 98,
     "metadata": {},
     "output_type": "execute_result"
    }
   ],
   "source": [
    "df.head()"
   ]
  },
  {
   "cell_type": "code",
   "execution_count": null,
   "metadata": {},
   "outputs": [],
   "source": []
  },
  {
   "cell_type": "code",
   "execution_count": 15,
   "metadata": {},
   "outputs": [],
   "source": [
    "from sklearn.model_selection import train_test_split"
   ]
  },
  {
   "cell_type": "code",
   "execution_count": null,
   "metadata": {},
   "outputs": [],
   "source": []
  },
  {
   "cell_type": "code",
   "execution_count": 13,
   "metadata": {},
   "outputs": [],
   "source": [
    "text_body = df.text"
   ]
  },
  {
   "cell_type": "code",
   "execution_count": 10,
   "metadata": {},
   "outputs": [],
   "source": [
    "from sklearn.feature_extraction.text import  TfidfVectorizer"
   ]
  },
  {
   "cell_type": "code",
   "execution_count": 11,
   "metadata": {},
   "outputs": [],
   "source": [
    "tfidf = TfidfVectorizer()"
   ]
  },
  {
   "cell_type": "code",
   "execution_count": 14,
   "metadata": {},
   "outputs": [
    {
     "data": {
      "text/plain": [
       "TfidfVectorizer(analyzer='word', binary=False, decode_error='strict',\n",
       "        dtype=<class 'numpy.float64'>, encoding='utf-8', input='content',\n",
       "        lowercase=True, max_df=1.0, max_features=None, min_df=1,\n",
       "        ngram_range=(1, 1), norm='l2', preprocessor=None, smooth_idf=True,\n",
       "        stop_words=None, strip_accents=None, sublinear_tf=False,\n",
       "        token_pattern='(?u)\\\\b\\\\w\\\\w+\\\\b', tokenizer=None, use_idf=True,\n",
       "        vocabulary=None)"
      ]
     },
     "execution_count": 14,
     "metadata": {},
     "output_type": "execute_result"
    }
   ],
   "source": [
    "tfidf.fit(text_body)"
   ]
  },
  {
   "cell_type": "code",
   "execution_count": null,
   "metadata": {},
   "outputs": [],
   "source": []
  }
 ],
 "metadata": {
  "kernelspec": {
   "display_name": "learn-env",
   "language": "python",
   "name": "learn-env"
  },
  "language_info": {
   "codemirror_mode": {
    "name": "ipython",
    "version": 3
   },
   "file_extension": ".py",
   "mimetype": "text/x-python",
   "name": "python",
   "nbconvert_exporter": "python",
   "pygments_lexer": "ipython3",
   "version": "3.6.6"
  }
 },
 "nbformat": 4,
 "nbformat_minor": 2
}
